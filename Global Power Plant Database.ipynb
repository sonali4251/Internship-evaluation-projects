{
 "cells": [
  {
   "cell_type": "code",
   "execution_count": 1,
   "id": "a7715558",
   "metadata": {},
   "outputs": [],
   "source": [
    "#importing required libraries\n",
    "import pandas as pd\n",
    "import numpy as np\n",
    "import matplotlib.pyplot as plt\n",
    "import seaborn as sns\n",
    "import datetime as dt\n",
    "from scipy.stats import zscore\n",
    "from sklearn.preprocessing import LabelEncoder\n",
    "from sklearn.preprocessing import PowerTransformer\n",
    "from sklearn.preprocessing import StandardScaler\n",
    "from statsmodels.stats.outliers_influence import variance_inflation_factor\n",
    "from sklearn.metrics import accuracy_score\n",
    "from sklearn.metrics import r2_score\n",
    "from sklearn.model_selection import train_test_split\n",
    "from sklearn.ensemble import RandomForestRegressor\n",
    "from sklearn.ensemble import RandomForestRegressor\n",
    "from sklearn.tree import DecisionTreeRegressor\n",
    "from sklearn.svm import SVR\n",
    "from sklearn.linear_model import LinearRegression\n",
    "from sklearn.neighbors import KNeighborsRegressor as KNN\n",
    "from sklearn.linear_model import SGDRegressor\n",
    "from sklearn.metrics import classification_report\n",
    "from sklearn.ensemble import GradientBoostingRegressor\n",
    "from sklearn.model_selection import cross_val_score\n",
    "from sklearn.ensemble import BaggingRegressor\n",
    "from sklearn import metrics\n",
    "import warnings\n",
    "warnings.filterwarnings('ignore')"
   ]
  },
  {
   "cell_type": "code",
   "execution_count": 2,
   "id": "689ecce0",
   "metadata": {},
   "outputs": [
    {
     "data": {
      "text/html": [
       "<div>\n",
       "<style scoped>\n",
       "    .dataframe tbody tr th:only-of-type {\n",
       "        vertical-align: middle;\n",
       "    }\n",
       "\n",
       "    .dataframe tbody tr th {\n",
       "        vertical-align: top;\n",
       "    }\n",
       "\n",
       "    .dataframe thead th {\n",
       "        text-align: right;\n",
       "    }\n",
       "</style>\n",
       "<table border=\"1\" class=\"dataframe\">\n",
       "  <thead>\n",
       "    <tr style=\"text-align: right;\">\n",
       "      <th></th>\n",
       "      <th>country</th>\n",
       "      <th>country_long</th>\n",
       "      <th>name</th>\n",
       "      <th>gppd_idnr</th>\n",
       "      <th>capacity_mw</th>\n",
       "      <th>latitude</th>\n",
       "      <th>longitude</th>\n",
       "      <th>primary_fuel</th>\n",
       "      <th>other_fuel1</th>\n",
       "      <th>other_fuel2</th>\n",
       "      <th>other_fuel3</th>\n",
       "      <th>commissioning_year</th>\n",
       "      <th>owner</th>\n",
       "      <th>source</th>\n",
       "      <th>url</th>\n",
       "      <th>geolocation_source</th>\n",
       "      <th>wepp_id</th>\n",
       "      <th>year_of_capacity_data</th>\n",
       "      <th>generation_gwh_2013</th>\n",
       "      <th>generation_gwh_2014</th>\n",
       "      <th>generation_gwh_2015</th>\n",
       "      <th>generation_gwh_2016</th>\n",
       "      <th>generation_gwh_2017</th>\n",
       "      <th>generation_gwh_2018</th>\n",
       "      <th>generation_gwh_2019</th>\n",
       "      <th>generation_data_source</th>\n",
       "      <th>estimated_generation_gwh</th>\n",
       "    </tr>\n",
       "  </thead>\n",
       "  <tbody>\n",
       "    <tr>\n",
       "      <th>0</th>\n",
       "      <td>IND</td>\n",
       "      <td>India</td>\n",
       "      <td>ACME Solar Tower</td>\n",
       "      <td>WRI1020239</td>\n",
       "      <td>2.5</td>\n",
       "      <td>28.1839</td>\n",
       "      <td>73.2407</td>\n",
       "      <td>Solar</td>\n",
       "      <td>NaN</td>\n",
       "      <td>NaN</td>\n",
       "      <td>NaN</td>\n",
       "      <td>2011.0</td>\n",
       "      <td>Solar Paces</td>\n",
       "      <td>National Renewable Energy Laboratory</td>\n",
       "      <td>http://www.nrel.gov/csp/solarpaces/project_det...</td>\n",
       "      <td>National Renewable Energy Laboratory</td>\n",
       "      <td>NaN</td>\n",
       "      <td>NaN</td>\n",
       "      <td>NaN</td>\n",
       "      <td>NaN</td>\n",
       "      <td>NaN</td>\n",
       "      <td>NaN</td>\n",
       "      <td>NaN</td>\n",
       "      <td>NaN</td>\n",
       "      <td>NaN</td>\n",
       "      <td>NaN</td>\n",
       "      <td>NaN</td>\n",
       "    </tr>\n",
       "    <tr>\n",
       "      <th>1</th>\n",
       "      <td>IND</td>\n",
       "      <td>India</td>\n",
       "      <td>ADITYA CEMENT WORKS</td>\n",
       "      <td>WRI1019881</td>\n",
       "      <td>98.0</td>\n",
       "      <td>24.7663</td>\n",
       "      <td>74.6090</td>\n",
       "      <td>Coal</td>\n",
       "      <td>NaN</td>\n",
       "      <td>NaN</td>\n",
       "      <td>NaN</td>\n",
       "      <td>NaN</td>\n",
       "      <td>Ultratech Cement ltd</td>\n",
       "      <td>Ultratech Cement ltd</td>\n",
       "      <td>http://www.ultratechcement.com/</td>\n",
       "      <td>WRI</td>\n",
       "      <td>NaN</td>\n",
       "      <td>NaN</td>\n",
       "      <td>NaN</td>\n",
       "      <td>NaN</td>\n",
       "      <td>NaN</td>\n",
       "      <td>NaN</td>\n",
       "      <td>NaN</td>\n",
       "      <td>NaN</td>\n",
       "      <td>NaN</td>\n",
       "      <td>NaN</td>\n",
       "      <td>NaN</td>\n",
       "    </tr>\n",
       "    <tr>\n",
       "      <th>2</th>\n",
       "      <td>IND</td>\n",
       "      <td>India</td>\n",
       "      <td>AES Saurashtra Windfarms</td>\n",
       "      <td>WRI1026669</td>\n",
       "      <td>39.2</td>\n",
       "      <td>21.9038</td>\n",
       "      <td>69.3732</td>\n",
       "      <td>Wind</td>\n",
       "      <td>NaN</td>\n",
       "      <td>NaN</td>\n",
       "      <td>NaN</td>\n",
       "      <td>NaN</td>\n",
       "      <td>AES</td>\n",
       "      <td>CDM</td>\n",
       "      <td>https://cdm.unfccc.int/Projects/DB/DNV-CUK1328...</td>\n",
       "      <td>WRI</td>\n",
       "      <td>NaN</td>\n",
       "      <td>NaN</td>\n",
       "      <td>NaN</td>\n",
       "      <td>NaN</td>\n",
       "      <td>NaN</td>\n",
       "      <td>NaN</td>\n",
       "      <td>NaN</td>\n",
       "      <td>NaN</td>\n",
       "      <td>NaN</td>\n",
       "      <td>NaN</td>\n",
       "      <td>NaN</td>\n",
       "    </tr>\n",
       "    <tr>\n",
       "      <th>3</th>\n",
       "      <td>IND</td>\n",
       "      <td>India</td>\n",
       "      <td>AGARTALA GT</td>\n",
       "      <td>IND0000001</td>\n",
       "      <td>135.0</td>\n",
       "      <td>23.8712</td>\n",
       "      <td>91.3602</td>\n",
       "      <td>Gas</td>\n",
       "      <td>NaN</td>\n",
       "      <td>NaN</td>\n",
       "      <td>NaN</td>\n",
       "      <td>2004.0</td>\n",
       "      <td>NaN</td>\n",
       "      <td>Central Electricity Authority</td>\n",
       "      <td>http://www.cea.nic.in/</td>\n",
       "      <td>WRI</td>\n",
       "      <td>NaN</td>\n",
       "      <td>2019.0</td>\n",
       "      <td>NaN</td>\n",
       "      <td>617.789264</td>\n",
       "      <td>843.747</td>\n",
       "      <td>886.004428</td>\n",
       "      <td>663.774500</td>\n",
       "      <td>626.239128</td>\n",
       "      <td>NaN</td>\n",
       "      <td>Central Electricity Authority</td>\n",
       "      <td>NaN</td>\n",
       "    </tr>\n",
       "    <tr>\n",
       "      <th>4</th>\n",
       "      <td>IND</td>\n",
       "      <td>India</td>\n",
       "      <td>AKALTARA TPP</td>\n",
       "      <td>IND0000002</td>\n",
       "      <td>1800.0</td>\n",
       "      <td>21.9603</td>\n",
       "      <td>82.4091</td>\n",
       "      <td>Coal</td>\n",
       "      <td>Oil</td>\n",
       "      <td>NaN</td>\n",
       "      <td>NaN</td>\n",
       "      <td>2015.0</td>\n",
       "      <td>NaN</td>\n",
       "      <td>Central Electricity Authority</td>\n",
       "      <td>http://www.cea.nic.in/</td>\n",
       "      <td>WRI</td>\n",
       "      <td>NaN</td>\n",
       "      <td>2019.0</td>\n",
       "      <td>NaN</td>\n",
       "      <td>3035.550000</td>\n",
       "      <td>5916.370</td>\n",
       "      <td>6243.000000</td>\n",
       "      <td>5385.579736</td>\n",
       "      <td>7279.000000</td>\n",
       "      <td>NaN</td>\n",
       "      <td>Central Electricity Authority</td>\n",
       "      <td>NaN</td>\n",
       "    </tr>\n",
       "  </tbody>\n",
       "</table>\n",
       "</div>"
      ],
      "text/plain": [
       "  country country_long                      name   gppd_idnr  capacity_mw  \\\n",
       "0     IND        India          ACME Solar Tower  WRI1020239          2.5   \n",
       "1     IND        India       ADITYA CEMENT WORKS  WRI1019881         98.0   \n",
       "2     IND        India  AES Saurashtra Windfarms  WRI1026669         39.2   \n",
       "3     IND        India               AGARTALA GT  IND0000001        135.0   \n",
       "4     IND        India              AKALTARA TPP  IND0000002       1800.0   \n",
       "\n",
       "   latitude  longitude primary_fuel other_fuel1 other_fuel2  other_fuel3  \\\n",
       "0   28.1839    73.2407        Solar         NaN         NaN          NaN   \n",
       "1   24.7663    74.6090         Coal         NaN         NaN          NaN   \n",
       "2   21.9038    69.3732         Wind         NaN         NaN          NaN   \n",
       "3   23.8712    91.3602          Gas         NaN         NaN          NaN   \n",
       "4   21.9603    82.4091         Coal         Oil         NaN          NaN   \n",
       "\n",
       "   commissioning_year                 owner  \\\n",
       "0              2011.0           Solar Paces   \n",
       "1                 NaN  Ultratech Cement ltd   \n",
       "2                 NaN                   AES   \n",
       "3              2004.0                   NaN   \n",
       "4              2015.0                   NaN   \n",
       "\n",
       "                                 source  \\\n",
       "0  National Renewable Energy Laboratory   \n",
       "1                  Ultratech Cement ltd   \n",
       "2                                   CDM   \n",
       "3         Central Electricity Authority   \n",
       "4         Central Electricity Authority   \n",
       "\n",
       "                                                 url  \\\n",
       "0  http://www.nrel.gov/csp/solarpaces/project_det...   \n",
       "1                    http://www.ultratechcement.com/   \n",
       "2  https://cdm.unfccc.int/Projects/DB/DNV-CUK1328...   \n",
       "3                             http://www.cea.nic.in/   \n",
       "4                             http://www.cea.nic.in/   \n",
       "\n",
       "                     geolocation_source  wepp_id  year_of_capacity_data  \\\n",
       "0  National Renewable Energy Laboratory      NaN                    NaN   \n",
       "1                                   WRI      NaN                    NaN   \n",
       "2                                   WRI      NaN                    NaN   \n",
       "3                                   WRI      NaN                 2019.0   \n",
       "4                                   WRI      NaN                 2019.0   \n",
       "\n",
       "   generation_gwh_2013  generation_gwh_2014  generation_gwh_2015  \\\n",
       "0                  NaN                  NaN                  NaN   \n",
       "1                  NaN                  NaN                  NaN   \n",
       "2                  NaN                  NaN                  NaN   \n",
       "3                  NaN           617.789264              843.747   \n",
       "4                  NaN          3035.550000             5916.370   \n",
       "\n",
       "   generation_gwh_2016  generation_gwh_2017  generation_gwh_2018  \\\n",
       "0                  NaN                  NaN                  NaN   \n",
       "1                  NaN                  NaN                  NaN   \n",
       "2                  NaN                  NaN                  NaN   \n",
       "3           886.004428           663.774500           626.239128   \n",
       "4          6243.000000          5385.579736          7279.000000   \n",
       "\n",
       "   generation_gwh_2019         generation_data_source  \\\n",
       "0                  NaN                            NaN   \n",
       "1                  NaN                            NaN   \n",
       "2                  NaN                            NaN   \n",
       "3                  NaN  Central Electricity Authority   \n",
       "4                  NaN  Central Electricity Authority   \n",
       "\n",
       "   estimated_generation_gwh  \n",
       "0                       NaN  \n",
       "1                       NaN  \n",
       "2                       NaN  \n",
       "3                       NaN  \n",
       "4                       NaN  "
      ]
     },
     "execution_count": 2,
     "metadata": {},
     "output_type": "execute_result"
    }
   ],
   "source": [
    "# import data frame\n",
    "df = pd.read_csv('https://raw.githubusercontent.com/wri/global-power-plant-database/master/source_databases_csv/database_IND.csv')\n",
    "# show all columns in a dataframe\n",
    "pd.set_option('display.max_columns', None) \n",
    "df.head()"
   ]
  },
  {
   "cell_type": "code",
   "execution_count": 3,
   "id": "1f009df0",
   "metadata": {},
   "outputs": [
    {
     "data": {
      "text/plain": [
       "Index(['country', 'country_long', 'name', 'gppd_idnr', 'capacity_mw',\n",
       "       'latitude', 'longitude', 'primary_fuel', 'other_fuel1', 'other_fuel2',\n",
       "       'other_fuel3', 'commissioning_year', 'owner', 'source', 'url',\n",
       "       'geolocation_source', 'wepp_id', 'year_of_capacity_data',\n",
       "       'generation_gwh_2013', 'generation_gwh_2014', 'generation_gwh_2015',\n",
       "       'generation_gwh_2016', 'generation_gwh_2017', 'generation_gwh_2018',\n",
       "       'generation_gwh_2019', 'generation_data_source',\n",
       "       'estimated_generation_gwh'],\n",
       "      dtype='object')"
      ]
     },
     "execution_count": 3,
     "metadata": {},
     "output_type": "execute_result"
    }
   ],
   "source": [
    "#to check column names\n",
    "df.columns"
   ]
  },
  {
   "cell_type": "code",
   "execution_count": 4,
   "id": "0b6904e3",
   "metadata": {},
   "outputs": [
    {
     "name": "stdout",
     "output_type": "stream",
     "text": [
      "<class 'pandas.core.frame.DataFrame'>\n",
      "RangeIndex: 907 entries, 0 to 906\n",
      "Data columns (total 27 columns):\n",
      " #   Column                    Non-Null Count  Dtype  \n",
      "---  ------                    --------------  -----  \n",
      " 0   country                   907 non-null    object \n",
      " 1   country_long              907 non-null    object \n",
      " 2   name                      907 non-null    object \n",
      " 3   gppd_idnr                 907 non-null    object \n",
      " 4   capacity_mw               907 non-null    float64\n",
      " 5   latitude                  861 non-null    float64\n",
      " 6   longitude                 861 non-null    float64\n",
      " 7   primary_fuel              907 non-null    object \n",
      " 8   other_fuel1               198 non-null    object \n",
      " 9   other_fuel2               1 non-null      object \n",
      " 10  other_fuel3               0 non-null      float64\n",
      " 11  commissioning_year        527 non-null    float64\n",
      " 12  owner                     342 non-null    object \n",
      " 13  source                    907 non-null    object \n",
      " 14  url                       907 non-null    object \n",
      " 15  geolocation_source        888 non-null    object \n",
      " 16  wepp_id                   0 non-null      float64\n",
      " 17  year_of_capacity_data     519 non-null    float64\n",
      " 18  generation_gwh_2013       0 non-null      float64\n",
      " 19  generation_gwh_2014       398 non-null    float64\n",
      " 20  generation_gwh_2015       422 non-null    float64\n",
      " 21  generation_gwh_2016       434 non-null    float64\n",
      " 22  generation_gwh_2017       440 non-null    float64\n",
      " 23  generation_gwh_2018       448 non-null    float64\n",
      " 24  generation_gwh_2019       0 non-null      float64\n",
      " 25  generation_data_source    449 non-null    object \n",
      " 26  estimated_generation_gwh  0 non-null      float64\n",
      "dtypes: float64(15), object(12)\n",
      "memory usage: 191.4+ KB\n"
     ]
    }
   ],
   "source": [
    "# #to get info about the data shape,data type of individual columns and null values\n",
    "df.info()"
   ]
  },
  {
   "cell_type": "markdown",
   "id": "5568b4f6",
   "metadata": {},
   "source": [
    "The dataframe have 27 columns and 907 rows. 12 columns have object and 15 float data type. Null values are also present in the dataset."
   ]
  },
  {
   "cell_type": "code",
   "execution_count": 5,
   "id": "b83ae086",
   "metadata": {},
   "outputs": [
    {
     "data": {
      "text/plain": [
       "country                       0\n",
       "country_long                  0\n",
       "name                          0\n",
       "gppd_idnr                     0\n",
       "capacity_mw                   0\n",
       "latitude                     46\n",
       "longitude                    46\n",
       "primary_fuel                  0\n",
       "other_fuel1                 709\n",
       "other_fuel2                 906\n",
       "other_fuel3                 907\n",
       "commissioning_year          380\n",
       "owner                       565\n",
       "source                        0\n",
       "url                           0\n",
       "geolocation_source           19\n",
       "wepp_id                     907\n",
       "year_of_capacity_data       388\n",
       "generation_gwh_2013         907\n",
       "generation_gwh_2014         509\n",
       "generation_gwh_2015         485\n",
       "generation_gwh_2016         473\n",
       "generation_gwh_2017         467\n",
       "generation_gwh_2018         459\n",
       "generation_gwh_2019         907\n",
       "generation_data_source      458\n",
       "estimated_generation_gwh    907\n",
       "dtype: int64"
      ]
     },
     "execution_count": 5,
     "metadata": {},
     "output_type": "execute_result"
    }
   ],
   "source": [
    "# null values\n",
    "df.isnull().sum()"
   ]
  },
  {
   "cell_type": "markdown",
   "id": "c9615a45",
   "metadata": {},
   "source": [
    "other_fuel3, wepp_id and estimated_generation_gwh has all NaN values keeping all the values in a column as NaN has no meaning so i can drop these 3 columns.\n",
    "\n",
    "\n",
    "other_fuel2 has only one non null value which means all other values are NaN so this column also has nothing to do with my data training."
   ]
  },
  {
   "cell_type": "code",
   "execution_count": 6,
   "id": "57ccfc2c",
   "metadata": {},
   "outputs": [
    {
     "data": {
      "text/plain": [
       "0"
      ]
     },
     "execution_count": 6,
     "metadata": {},
     "output_type": "execute_result"
    }
   ],
   "source": [
    "#to check for duplicate values\n",
    "df.duplicated().sum()\n"
   ]
  },
  {
   "cell_type": "code",
   "execution_count": 7,
   "id": "75b0ba2c",
   "metadata": {},
   "outputs": [],
   "source": [
    "#Droping unnecessary columns\n",
    "df = df.drop([\"other_fuel3\"],axis=1)\n",
    "df = df.drop([\"wepp_id\"],axis=1)\n",
    "df = df.drop([\"estimated_generation_gwh\"],axis=1)\n",
    "df = df.drop([\"other_fuel2\"],axis=1)\n",
    "df = df.drop([\"generation_gwh_2013\"],axis= 1)\n",
    "df = df.drop([\"generation_gwh_2019\"],axis=1)"
   ]
  },
  {
   "cell_type": "code",
   "execution_count": 8,
   "id": "371894ec",
   "metadata": {},
   "outputs": [
    {
     "data": {
      "text/plain": [
       "country                     1\n",
       "country_long                1\n",
       "name                      907\n",
       "gppd_idnr                 907\n",
       "capacity_mw               361\n",
       "latitude                  836\n",
       "longitude                 827\n",
       "primary_fuel                8\n",
       "other_fuel1                 3\n",
       "commissioning_year         73\n",
       "owner                     280\n",
       "source                    191\n",
       "url                       304\n",
       "geolocation_source          3\n",
       "year_of_capacity_data       1\n",
       "generation_gwh_2014       371\n",
       "generation_gwh_2015       396\n",
       "generation_gwh_2016       403\n",
       "generation_gwh_2017       408\n",
       "generation_gwh_2018       410\n",
       "generation_data_source      1\n",
       "dtype: int64"
      ]
     },
     "execution_count": 8,
     "metadata": {},
     "output_type": "execute_result"
    }
   ],
   "source": [
    "#Checking unique values of each column\n",
    "df.nunique()"
   ]
  },
  {
   "cell_type": "markdown",
   "id": "03be0d69",
   "metadata": {},
   "source": [
    "country, country_long, year_of_capacity_data and generation_data_source has only one unique count which means all the values of the column are same so no need to keep all these columns unnecessarily."
   ]
  },
  {
   "cell_type": "code",
   "execution_count": 9,
   "id": "1b947b4f",
   "metadata": {},
   "outputs": [],
   "source": [
    "#Droping unnecessary columns\n",
    "df = df.drop([\"country\"],axis=1)\n",
    "df = df.drop([\"country_long\"],axis=1)\n",
    "df = df.drop([\"year_of_capacity_data\"],axis=1)\n",
    "df = df.drop([\"generation_data_source\"],axis=1)"
   ]
  },
  {
   "cell_type": "code",
   "execution_count": 10,
   "id": "a87acfc0",
   "metadata": {},
   "outputs": [
    {
     "data": {
      "text/plain": [
       "['name',\n",
       " 'gppd_idnr',\n",
       " 'primary_fuel',\n",
       " 'other_fuel1',\n",
       " 'owner',\n",
       " 'source',\n",
       " 'url',\n",
       " 'geolocation_source']"
      ]
     },
     "execution_count": 10,
     "metadata": {},
     "output_type": "execute_result"
    }
   ],
   "source": [
    "# to check for categorical columns\n",
    "obj_columns = [] \n",
    "\n",
    "for i in df.dtypes.index:\n",
    "    if df.dtypes[i] == \"O\":\n",
    "        obj_columns.append(i)\n",
    "obj_columns     "
   ]
  },
  {
   "cell_type": "code",
   "execution_count": 11,
   "id": "ce9df212",
   "metadata": {},
   "outputs": [
    {
     "name": "stdout",
     "output_type": "stream",
     "text": [
      "name\n",
      "ACME Solar Tower           1\n",
      "RAICHUR                    1\n",
      "PRYAGRAJ (BARA) TPP        1\n",
      "PULICHINTALA               1\n",
      "PUNE MILL                  1\n",
      "                          ..\n",
      "KADANA                     1\n",
      "KADRA                      1\n",
      "KAHALGAON                  1\n",
      "KAIGA                      1\n",
      "iEnergy Theni Wind Farm    1\n",
      "Name: name, Length: 907, dtype: int64\n",
      "----------------------------------------------------------------------\n",
      "gppd_idnr\n",
      "WRI1020239    1\n",
      "IND0000356    1\n",
      "IND0000346    1\n",
      "IND0000523    1\n",
      "WRI1019978    1\n",
      "             ..\n",
      "IND0000167    1\n",
      "IND0000168    1\n",
      "IND0000169    1\n",
      "IND0000170    1\n",
      "WRI1026761    1\n",
      "Name: gppd_idnr, Length: 907, dtype: int64\n",
      "----------------------------------------------------------------------\n",
      "primary_fuel\n",
      "Coal       258\n",
      "Hydro      251\n",
      "Solar      127\n",
      "Wind       123\n",
      "Gas         69\n",
      "Biomass     50\n",
      "Oil         20\n",
      "Nuclear      9\n",
      "Name: primary_fuel, dtype: int64\n",
      "----------------------------------------------------------------------\n",
      "other_fuel1\n",
      "Oil             195\n",
      "Gas               2\n",
      "Cogeneration      1\n",
      "Name: other_fuel1, dtype: int64\n",
      "----------------------------------------------------------------------\n",
      "owner\n",
      "Acc Acc ltd                                                    4\n",
      "Sterling Agro Industries ltd.                                  4\n",
      "Jk Cement ltd                                                  4\n",
      "SWPPL                                                          3\n",
      "Jaypee Ltd jccl)                                               3\n",
      "                                                              ..\n",
      "Sunkon Energy Private Limited                                  1\n",
      "West Bengal Energy Development Corporation Limited (WBEDCL)    1\n",
      "Energy Infratech Private Limited                               1\n",
      "K. N. Ram                                                      1\n",
      "iEnergy Wind Farms                                             1\n",
      "Name: owner, Length: 280, dtype: int64\n",
      "----------------------------------------------------------------------\n",
      "source\n",
      "Central Electricity Authority                                  519\n",
      "CDM                                                            124\n",
      "Lancosola                                                       10\n",
      "National Renewable Energy Laboratory                             8\n",
      "National Thermal Power Corporation (NTPC)                        6\n",
      "                                                              ... \n",
      "Harsha Engineers Limited                                         1\n",
      "Godawari Energy ltd                                              1\n",
      "Sunkon Energy Private Limited                                    1\n",
      "West Bengal Energy Development Corporation Limited (WBEDCL)      1\n",
      "Yashwantrao Krishna ssk                                          1\n",
      "Name: source, Length: 191, dtype: int64\n",
      "----------------------------------------------------------------------\n",
      "url\n",
      "http://www.cea.nic.in/                                                              519\n",
      "http://www.lancosolar.com/pdfs/rajasthan-pv-project-details.pdf                       7\n",
      "http://www.ntpc.co.in                                                                 6\n",
      "http://viainfotech.biz/Biomass/theme5/document/green_market/REC-project-list.pdf      5\n",
      "http://www.mahaurja.com/PDF/PG2_GridConnSPPCommissioned.pdf                           4\n",
      "                                                                                   ... \n",
      "https://cdm.unfccc.int/Projects/DB/LRQA%20Ltd1346322352.66/view                       1\n",
      "https://cdm.unfccc.int/Projects/DB/DNV-CUK1351166669.28/view                          1\n",
      "http://harshaengineers.com                                                            1\n",
      "http://hiragroup.com/companies/godawari-green-energy-limited/                         1\n",
      "https://cdm.unfccc.int/Projects/DB/RWTUV1345031355.85/view                            1\n",
      "Name: url, Length: 304, dtype: int64\n",
      "----------------------------------------------------------------------\n",
      "geolocation_source\n",
      "WRI                                     765\n",
      "Industry About                          119\n",
      "National Renewable Energy Laboratory      4\n",
      "Name: geolocation_source, dtype: int64\n",
      "----------------------------------------------------------------------\n"
     ]
    }
   ],
   "source": [
    "# listing all Categorical data using for_loop method\n",
    "for x in obj_columns:\n",
    "    print(x)\n",
    "    print(df[x].value_counts())\n",
    "    print(\"-\"*70)"
   ]
  },
  {
   "cell_type": "markdown",
   "id": "3bb9bb37",
   "metadata": {},
   "source": [
    "Name column has all unique values. Name column will not contribute any thing in my model training.So let me drop it.\n",
    "gppd_idnr also has all the values unique so let me drop it as it can not contribute to model training.\n",
    "Owner also looks like an unnecessary column since keeping all owner names will never distrub or give inputs to my prediction so i think i have to drop this column.\n",
    "url column also has no input for prediction ao i can this column as well."
   ]
  },
  {
   "cell_type": "code",
   "execution_count": 13,
   "id": "a1c3a4db",
   "metadata": {},
   "outputs": [],
   "source": [
    "#Droping unnecessary columns\n",
    "df = df.drop([\"name\"],axis=1)\n",
    "df = df.drop([\"gppd_idnr\"],axis=1)\n",
    "df = df.drop([\"url\"],axis=1)\n",
    "df = df.drop([\"owner\"],axis=1)"
   ]
  },
  {
   "cell_type": "code",
   "execution_count": 14,
   "id": "2f0a3e79",
   "metadata": {},
   "outputs": [],
   "source": [
    "#Lets extract Power_plant_age from commissioning_year by subtracting it from 2018\n",
    "df['Power_plant_age'] = 2018 - df['commissioning_year']\n",
    "df.drop(columns=[\"commissioning_year\"],inplace=True)"
   ]
  },
  {
   "cell_type": "markdown",
   "id": "dff287a7",
   "metadata": {},
   "source": [
    "Extracted Power_plant_age column from commissioning_year column and droped commissioning_year. As Power_plant_age may contribute more than commissioning_year for our prediction."
   ]
  },
  {
   "cell_type": "code",
   "execution_count": 15,
   "id": "8323be52",
   "metadata": {},
   "outputs": [
    {
     "data": {
      "text/html": [
       "<div>\n",
       "<style scoped>\n",
       "    .dataframe tbody tr th:only-of-type {\n",
       "        vertical-align: middle;\n",
       "    }\n",
       "\n",
       "    .dataframe tbody tr th {\n",
       "        vertical-align: top;\n",
       "    }\n",
       "\n",
       "    .dataframe thead th {\n",
       "        text-align: right;\n",
       "    }\n",
       "</style>\n",
       "<table border=\"1\" class=\"dataframe\">\n",
       "  <thead>\n",
       "    <tr style=\"text-align: right;\">\n",
       "      <th></th>\n",
       "      <th>capacity_mw</th>\n",
       "      <th>latitude</th>\n",
       "      <th>longitude</th>\n",
       "      <th>primary_fuel</th>\n",
       "      <th>other_fuel1</th>\n",
       "      <th>source</th>\n",
       "      <th>geolocation_source</th>\n",
       "      <th>generation_gwh_2014</th>\n",
       "      <th>generation_gwh_2015</th>\n",
       "      <th>generation_gwh_2016</th>\n",
       "      <th>generation_gwh_2017</th>\n",
       "      <th>generation_gwh_2018</th>\n",
       "      <th>Power_plant_age</th>\n",
       "    </tr>\n",
       "  </thead>\n",
       "  <tbody>\n",
       "    <tr>\n",
       "      <th>0</th>\n",
       "      <td>2.5</td>\n",
       "      <td>28.1839</td>\n",
       "      <td>73.2407</td>\n",
       "      <td>Solar</td>\n",
       "      <td>NaN</td>\n",
       "      <td>National Renewable Energy Laboratory</td>\n",
       "      <td>National Renewable Energy Laboratory</td>\n",
       "      <td>NaN</td>\n",
       "      <td>NaN</td>\n",
       "      <td>NaN</td>\n",
       "      <td>NaN</td>\n",
       "      <td>NaN</td>\n",
       "      <td>7.0</td>\n",
       "    </tr>\n",
       "    <tr>\n",
       "      <th>1</th>\n",
       "      <td>98.0</td>\n",
       "      <td>24.7663</td>\n",
       "      <td>74.6090</td>\n",
       "      <td>Coal</td>\n",
       "      <td>NaN</td>\n",
       "      <td>Ultratech Cement ltd</td>\n",
       "      <td>WRI</td>\n",
       "      <td>NaN</td>\n",
       "      <td>NaN</td>\n",
       "      <td>NaN</td>\n",
       "      <td>NaN</td>\n",
       "      <td>NaN</td>\n",
       "      <td>NaN</td>\n",
       "    </tr>\n",
       "    <tr>\n",
       "      <th>2</th>\n",
       "      <td>39.2</td>\n",
       "      <td>21.9038</td>\n",
       "      <td>69.3732</td>\n",
       "      <td>Wind</td>\n",
       "      <td>NaN</td>\n",
       "      <td>CDM</td>\n",
       "      <td>WRI</td>\n",
       "      <td>NaN</td>\n",
       "      <td>NaN</td>\n",
       "      <td>NaN</td>\n",
       "      <td>NaN</td>\n",
       "      <td>NaN</td>\n",
       "      <td>NaN</td>\n",
       "    </tr>\n",
       "    <tr>\n",
       "      <th>3</th>\n",
       "      <td>135.0</td>\n",
       "      <td>23.8712</td>\n",
       "      <td>91.3602</td>\n",
       "      <td>Gas</td>\n",
       "      <td>NaN</td>\n",
       "      <td>Central Electricity Authority</td>\n",
       "      <td>WRI</td>\n",
       "      <td>617.789264</td>\n",
       "      <td>843.747</td>\n",
       "      <td>886.004428</td>\n",
       "      <td>663.7745</td>\n",
       "      <td>626.239128</td>\n",
       "      <td>14.0</td>\n",
       "    </tr>\n",
       "  </tbody>\n",
       "</table>\n",
       "</div>"
      ],
      "text/plain": [
       "   capacity_mw  latitude  longitude primary_fuel other_fuel1  \\\n",
       "0          2.5   28.1839    73.2407        Solar         NaN   \n",
       "1         98.0   24.7663    74.6090         Coal         NaN   \n",
       "2         39.2   21.9038    69.3732         Wind         NaN   \n",
       "3        135.0   23.8712    91.3602          Gas         NaN   \n",
       "\n",
       "                                 source                    geolocation_source  \\\n",
       "0  National Renewable Energy Laboratory  National Renewable Energy Laboratory   \n",
       "1                  Ultratech Cement ltd                                   WRI   \n",
       "2                                   CDM                                   WRI   \n",
       "3         Central Electricity Authority                                   WRI   \n",
       "\n",
       "   generation_gwh_2014  generation_gwh_2015  generation_gwh_2016  \\\n",
       "0                  NaN                  NaN                  NaN   \n",
       "1                  NaN                  NaN                  NaN   \n",
       "2                  NaN                  NaN                  NaN   \n",
       "3           617.789264              843.747           886.004428   \n",
       "\n",
       "   generation_gwh_2017  generation_gwh_2018  Power_plant_age  \n",
       "0                  NaN                  NaN              7.0  \n",
       "1                  NaN                  NaN              NaN  \n",
       "2                  NaN                  NaN              NaN  \n",
       "3             663.7745           626.239128             14.0  "
      ]
     },
     "execution_count": 15,
     "metadata": {},
     "output_type": "execute_result"
    }
   ],
   "source": [
    "df.head(4)"
   ]
  },
  {
   "cell_type": "code",
   "execution_count": 16,
   "id": "2a3784dd",
   "metadata": {},
   "outputs": [
    {
     "data": {
      "text/plain": [
       "(907, 13)"
      ]
     },
     "execution_count": 16,
     "metadata": {},
     "output_type": "execute_result"
    }
   ],
   "source": [
    "df.shape"
   ]
  },
  {
   "cell_type": "code",
   "execution_count": 17,
   "id": "94506d4d",
   "metadata": {},
   "outputs": [
    {
     "data": {
      "text/plain": [
       "capacity_mw              0\n",
       "latitude                46\n",
       "longitude               46\n",
       "primary_fuel             0\n",
       "other_fuel1            709\n",
       "source                   0\n",
       "geolocation_source      19\n",
       "generation_gwh_2014    509\n",
       "generation_gwh_2015    485\n",
       "generation_gwh_2016    473\n",
       "generation_gwh_2017    467\n",
       "generation_gwh_2018    459\n",
       "Power_plant_age        380\n",
       "dtype: int64"
      ]
     },
     "execution_count": 17,
     "metadata": {},
     "output_type": "execute_result"
    }
   ],
   "source": [
    "df.isnull().sum()"
   ]
  },
  {
   "cell_type": "code",
   "execution_count": 18,
   "id": "e3302e13",
   "metadata": {},
   "outputs": [],
   "source": [
    "#Replacing NaN values in numerical columns\n",
    "df[\"latitude\"] = df[\"latitude\"].fillna(df[\"latitude\"].mean())\n",
    "df[\"longitude\"] = df[\"longitude\"].fillna(df[\"longitude\"].median())\n",
    "df[\"Power_plant_age\"] = df[\"Power_plant_age\"].fillna(df[\"Power_plant_age\"].median())\n",
    "df[\"generation_gwh_2014\"] = df[\"generation_gwh_2014\"].fillna(df[\"generation_gwh_2014\"].median())\n",
    "df[\"generation_gwh_2015\"] = df[\"generation_gwh_2015\"].fillna(df[\"generation_gwh_2015\"].median())\n",
    "df[\"generation_gwh_2016\"] = df[\"generation_gwh_2016\"].fillna(df[\"generation_gwh_2016\"].median())\n",
    "df[\"generation_gwh_2017\"] = df[\"generation_gwh_2017\"].fillna(df[\"generation_gwh_2017\"].median())\n",
    "df[\"generation_gwh_2018\"] = df[\"generation_gwh_2018\"].fillna(df[\"generation_gwh_2018\"].median())"
   ]
  },
  {
   "cell_type": "code",
   "execution_count": 19,
   "id": "4aae62bb",
   "metadata": {},
   "outputs": [],
   "source": [
    "#Replacing null values in categorical columns\n",
    "df[\"other_fuel1\"] = df[\"other_fuel1\"].fillna(df[\"other_fuel1\"].mode()[0])\n",
    "df[\"geolocation_source\"] = df[\"geolocation_source\"].fillna(df[\"geolocation_source\"].mode()[0])"
   ]
  },
  {
   "cell_type": "markdown",
   "id": "6314ef1d",
   "metadata": {},
   "source": [
    "Replaced all the null values in all columns."
   ]
  },
  {
   "cell_type": "code",
   "execution_count": 20,
   "id": "f3f7c9b4",
   "metadata": {},
   "outputs": [
    {
     "data": {
      "text/html": [
       "<div>\n",
       "<style scoped>\n",
       "    .dataframe tbody tr th:only-of-type {\n",
       "        vertical-align: middle;\n",
       "    }\n",
       "\n",
       "    .dataframe tbody tr th {\n",
       "        vertical-align: top;\n",
       "    }\n",
       "\n",
       "    .dataframe thead th {\n",
       "        text-align: right;\n",
       "    }\n",
       "</style>\n",
       "<table border=\"1\" class=\"dataframe\">\n",
       "  <thead>\n",
       "    <tr style=\"text-align: right;\">\n",
       "      <th></th>\n",
       "      <th>capacity_mw</th>\n",
       "      <th>latitude</th>\n",
       "      <th>longitude</th>\n",
       "      <th>primary_fuel</th>\n",
       "      <th>other_fuel1</th>\n",
       "      <th>source</th>\n",
       "      <th>geolocation_source</th>\n",
       "      <th>generation_gwh_2014</th>\n",
       "      <th>generation_gwh_2015</th>\n",
       "      <th>generation_gwh_2016</th>\n",
       "      <th>generation_gwh_2017</th>\n",
       "      <th>generation_gwh_2018</th>\n",
       "      <th>Power_plant_age</th>\n",
       "    </tr>\n",
       "  </thead>\n",
       "  <tbody>\n",
       "    <tr>\n",
       "      <th>0</th>\n",
       "      <td>2.5</td>\n",
       "      <td>28.1839</td>\n",
       "      <td>73.2407</td>\n",
       "      <td>Solar</td>\n",
       "      <td>Oil</td>\n",
       "      <td>National Renewable Energy Laboratory</td>\n",
       "      <td>National Renewable Energy Laboratory</td>\n",
       "      <td>801.123775</td>\n",
       "      <td>711.181225</td>\n",
       "      <td>737.20545</td>\n",
       "      <td>817.97725</td>\n",
       "      <td>751.644375</td>\n",
       "      <td>7.0</td>\n",
       "    </tr>\n",
       "    <tr>\n",
       "      <th>1</th>\n",
       "      <td>98.0</td>\n",
       "      <td>24.7663</td>\n",
       "      <td>74.6090</td>\n",
       "      <td>Coal</td>\n",
       "      <td>Oil</td>\n",
       "      <td>Ultratech Cement ltd</td>\n",
       "      <td>WRI</td>\n",
       "      <td>801.123775</td>\n",
       "      <td>711.181225</td>\n",
       "      <td>737.20545</td>\n",
       "      <td>817.97725</td>\n",
       "      <td>751.644375</td>\n",
       "      <td>17.0</td>\n",
       "    </tr>\n",
       "    <tr>\n",
       "      <th>2</th>\n",
       "      <td>39.2</td>\n",
       "      <td>21.9038</td>\n",
       "      <td>69.3732</td>\n",
       "      <td>Wind</td>\n",
       "      <td>Oil</td>\n",
       "      <td>CDM</td>\n",
       "      <td>WRI</td>\n",
       "      <td>801.123775</td>\n",
       "      <td>711.181225</td>\n",
       "      <td>737.20545</td>\n",
       "      <td>817.97725</td>\n",
       "      <td>751.644375</td>\n",
       "      <td>17.0</td>\n",
       "    </tr>\n",
       "  </tbody>\n",
       "</table>\n",
       "</div>"
      ],
      "text/plain": [
       "   capacity_mw  latitude  longitude primary_fuel other_fuel1  \\\n",
       "0          2.5   28.1839    73.2407        Solar         Oil   \n",
       "1         98.0   24.7663    74.6090         Coal         Oil   \n",
       "2         39.2   21.9038    69.3732         Wind         Oil   \n",
       "\n",
       "                                 source                    geolocation_source  \\\n",
       "0  National Renewable Energy Laboratory  National Renewable Energy Laboratory   \n",
       "1                  Ultratech Cement ltd                                   WRI   \n",
       "2                                   CDM                                   WRI   \n",
       "\n",
       "   generation_gwh_2014  generation_gwh_2015  generation_gwh_2016  \\\n",
       "0           801.123775           711.181225            737.20545   \n",
       "1           801.123775           711.181225            737.20545   \n",
       "2           801.123775           711.181225            737.20545   \n",
       "\n",
       "   generation_gwh_2017  generation_gwh_2018  Power_plant_age  \n",
       "0            817.97725           751.644375              7.0  \n",
       "1            817.97725           751.644375             17.0  \n",
       "2            817.97725           751.644375             17.0  "
      ]
     },
     "execution_count": 20,
     "metadata": {},
     "output_type": "execute_result"
    }
   ],
   "source": [
    "df.head(3)"
   ]
  },
  {
   "cell_type": "code",
   "execution_count": 21,
   "id": "d2c097ab",
   "metadata": {},
   "outputs": [
    {
     "data": {
      "text/plain": [
       "capacity_mw            0\n",
       "latitude               0\n",
       "longitude              0\n",
       "primary_fuel           0\n",
       "other_fuel1            0\n",
       "source                 0\n",
       "geolocation_source     0\n",
       "generation_gwh_2014    0\n",
       "generation_gwh_2015    0\n",
       "generation_gwh_2016    0\n",
       "generation_gwh_2017    0\n",
       "generation_gwh_2018    0\n",
       "Power_plant_age        0\n",
       "dtype: int64"
      ]
     },
     "execution_count": 21,
     "metadata": {},
     "output_type": "execute_result"
    }
   ],
   "source": [
    "df.isnull().sum()"
   ]
  },
  {
   "cell_type": "markdown",
   "id": "2d6d7568",
   "metadata": {},
   "source": [
    "All null values have been removed from the dataset."
   ]
  },
  {
   "cell_type": "code",
   "execution_count": 22,
   "id": "76a0ada0",
   "metadata": {},
   "outputs": [
    {
     "data": {
      "text/plain": [
       "(907, 13)"
      ]
     },
     "execution_count": 22,
     "metadata": {},
     "output_type": "execute_result"
    }
   ],
   "source": [
    "df.shape"
   ]
  },
  {
   "cell_type": "code",
   "execution_count": 23,
   "id": "7ce77df0",
   "metadata": {},
   "outputs": [
    {
     "data": {
      "text/plain": [
       "array([2.50000e+00, 9.80000e+01, 3.92000e+01, 1.35000e+02, 1.80000e+03,\n",
       "       2.50000e+02, 6.00000e+01, 1.92000e+02, 2.90000e+02, 2.10000e+02,\n",
       "       1.35000e+03, 1.34000e+02, 1.20000e+03, 1.69500e+01, 9.00000e+00,\n",
       "       2.63000e+03, 4.19330e+02, 6.00000e+02, 1.00000e+01, 1.70000e+01,\n",
       "       2.40000e+01, 6.52000e+02, 4.60000e+01, 5.00000e+01, 1.00000e+00,\n",
       "       1.65000e+01, 1.13600e+02, 1.98000e+01, 1.32000e+01, 5.00000e+00,\n",
       "       7.05000e+02, 2.80000e+01, 4.50000e+02, 1.80000e+02, 1.05000e+03,\n",
       "       5.10000e+02, 6.75000e+01, 3.00000e+02, 3.35000e+02, 1.20000e+01,\n",
       "       3.15000e+02, 3.00000e+01, 2.00000e+01, 4.20000e+01, 7.20000e+02,\n",
       "       9.00000e+01, 1.32000e+03, 1.20000e+02, 6.60000e+01, 2.70000e+02,\n",
       "       2.28000e+01, 1.50000e+01, 2.52000e+01, 1.80000e+01, 1.70000e+03,\n",
       "       2.60000e+01, 4.10000e+01, 1.37900e+03, 3.40000e+01, 1.60000e+01,\n",
       "       5.00000e+02, 8.00000e+01, 7.50000e+01, 1.21000e+03, 9.90000e+01,\n",
       "       6.96000e+01, 6.00000e+00, 7.50000e+02, 4.00000e+01, 1.65000e+02,\n",
       "       7.00000e+01, 8.15000e+01, 1.12000e+01, 3.63000e+01, 1.70000e+00,\n",
       "       2.48000e+01, 5.04000e+01, 1.50000e+02, 9.87000e+01, 3.00000e+00,\n",
       "       4.20000e+00, 5.40000e+02, 2.31000e+02, 3.50000e+01, 2.34000e+02,\n",
       "       6.30000e+02, 2.92000e+03, 3.60000e+01, 3.75000e+00, 3.28000e+01,\n",
       "       2.32000e+03, 2.40000e+02, 1.44000e+02, 4.40000e+01, 1.10000e+02,\n",
       "       2.21000e+02, 2.10000e+01, 6.60000e+02, 1.82000e+03, 8.29780e+02,\n",
       "       1.00000e+02, 1.60000e+03, 2.50000e+01, 9.90000e+02, 3.37500e+01,\n",
       "       5.10000e+01, 2.80000e+02, 3.30000e+02, 5.95200e+02, 2.20000e+01,\n",
       "       9.60000e+01, 1.55000e+01, 1.29600e+01, 6.76000e+01, 3.90000e+02,\n",
       "       1.28000e+01, 1.00000e+03, 1.25000e+02, 2.00000e+00, 3.75000e+01,\n",
       "       2.82000e+01, 2.25000e+01, 5.15000e+02, 6.88000e+01, 2.10000e+03,\n",
       "       4.31586e+02, 4.25000e+00, 3.10000e+02, 3.90000e+01, 8.00000e+02,\n",
       "       1.05000e+01, 2.25000e+02, 6.48000e+02, 1.15000e+02, 7.76500e+01,\n",
       "       4.68570e+02, 2.31000e+01, 3.20000e+01, 9.20000e+02, 2.05240e+02,\n",
       "       7.68000e+02, 5.50000e+01, 2.56000e+01, 7.50000e+00, 1.80000e+00,\n",
       "       2.55000e+01, 1.56100e+02, 3.51430e+02, 1.89000e+01, 3.47500e+02,\n",
       "       3.44000e+01, 2.73000e+01, 8.88000e+01, 6.05000e+02, 4.90000e+01,\n",
       "       4.20000e+02, 7.80000e+02, 3.50000e+02, 1.50000e+03, 1.00800e+02,\n",
       "       1.08000e+03, 6.35000e+01, 5.45000e+01, 1.55000e+02, 4.45674e+02,\n",
       "       1.39200e+02, 4.27500e+02, 9.18000e+01, 2.96000e+01, 3.30000e+01,\n",
       "       1.02500e+01, 4.00000e+02, 2.34000e+03, 8.80000e+02, 1.10000e+03,\n",
       "       4.40000e+02, 8.55000e+02, 4.00000e+00, 3.25000e+01, 1.19800e+02,\n",
       "       2.18400e+01, 1.95000e+02, 2.91000e+02, 6.45000e+02, 7.20000e+01,\n",
       "       4.14000e+01, 1.26000e+03, 1.75000e+01, 4.45000e+02, 1.45800e+03,\n",
       "       2.00000e+02, 2.40000e+03, 2.60000e+03, 8.90000e+02, 1.34000e+03,\n",
       "       1.24000e+03, 1.07880e+02, 1.95600e+03, 5.55000e+02, 2.00000e+03,\n",
       "       1.01000e+02, 7.56000e+01, 5.20000e+00, 2.08000e+01, 5.62500e+01,\n",
       "       2.11955e+02, 1.98000e+03, 1.26000e+02, 3.15000e+01, 1.05000e+02,\n",
       "       4.60000e+02, 9.70000e+00, 3.68000e+01, 2.10000e+00, 2.40000e+00,\n",
       "       1.14750e+02, 4.50000e+00, 1.40000e+02, 3.14000e+01, 6.32000e+01,\n",
       "       1.86000e+02, 3.94000e+02, 1.66500e+02, 3.88000e+02, 4.50000e+01,\n",
       "       3.06000e+01, 8.40000e+02, 2.46000e+02, 9.30000e+00, 7.89000e+01,\n",
       "       2.07000e+02, 3.12000e+01, 4.62000e+03, 4.00000e+03, 2.83000e+01,\n",
       "       6.10000e+02, 1.46500e+01, 6.60000e+00, 5.25000e+01, 8.15600e+02,\n",
       "       4.55000e+01, 6.50000e+01, 1.61750e+02, 1.16000e+01, 1.22700e+01,\n",
       "       1.47000e+03, 3.32000e+01, 2.76500e+01, 6.25000e+00, 3.76000e+01,\n",
       "       5.80000e+00, 7.20000e+00, 1.09400e+03, 5.20000e+02, 1.02000e+02,\n",
       "       3.30500e+02, 6.55000e+02, 7.26600e+02, 1.75000e+02, 1.14000e+03,\n",
       "       1.17000e+03, 2.04000e+01, 2.20000e+02, 1.60000e+02, 1.61000e+02,\n",
       "       7.02860e+02, 3.96000e+02, 1.37120e+03, 9.00000e+02, 5.92000e+01,\n",
       "       6.56000e+01, 3.52000e+01, 2.18000e+01, 1.48500e+01, 9.90000e+00,\n",
       "       1.52000e+01, 1.90000e+01, 1.72000e+02, 1.87000e+01, 4.80000e+00,\n",
       "       1.72000e+03, 1.37000e+03, 3.85000e+01, 1.40000e+03, 1.10000e+01,\n",
       "       1.98000e+02, 2.70500e+02, 4.12020e+02, 4.05000e+02, 1.25000e+01,\n",
       "       1.96708e+03, 1.65000e+03, 4.80000e+01, 3.00000e+03, 9.48000e+01,\n",
       "       6.30000e+01, 6.25000e+01, 2.64000e+01, 3.05000e+01, 3.51000e+01,\n",
       "       6.90000e+02, 1.05700e+02, 1.06000e+02, 1.97000e+01, 3.96000e+03,\n",
       "       2.90000e+01, 1.33000e+03, 1.03500e+03, 1.72000e+01, 5.40000e+01,\n",
       "       3.36000e+01, 2.98000e+03, 4.30000e+01, 3.30000e+00, 7.70000e+02,\n",
       "       1.30000e+02, 1.14750e+03, 1.50000e+00, 8.50000e+00, 2.25000e+00,\n",
       "       2.52000e+03, 8.40000e+00, 6.30000e+00, 3.60000e+00, 9.42000e+01,\n",
       "       9.70000e+01, 1.35000e+01, 1.32000e+02, 3.30000e+03, 2.60000e+02,\n",
       "       4.22000e+02, 9.35000e+00, 1.44000e+01, 7.40000e+01, 0.00000e+00,\n",
       "       4.96000e+01, 9.13500e+01, 8.00000e+00, 1.44000e+03, 1.11000e+03,\n",
       "       1.55000e+03, 3.82500e+02, 3.20000e+02, 6.72000e+02, 6.26000e+01,\n",
       "       4.80000e+02, 3.74571e+02, 2.57000e+01, 5.28000e+01, 1.87200e+02,\n",
       "       2.58000e+01, 3.07500e+01, 5.07000e+01, 3.88500e+02, 2.72300e+02,\n",
       "       4.76000e+03, 1.04000e+03, 4.25000e+01, 6.24000e+01, 3.46500e+01,\n",
       "       1.06600e+02])"
      ]
     },
     "execution_count": 23,
     "metadata": {},
     "output_type": "execute_result"
    }
   ],
   "source": [
    "#Checking unique values of target column (for regression model)\n",
    "df['capacity_mw'].unique()"
   ]
  },
  {
   "cell_type": "code",
   "execution_count": 24,
   "id": "99938830",
   "metadata": {},
   "outputs": [
    {
     "data": {
      "text/plain": [
       "array(['Solar', 'Coal', 'Wind', 'Gas', 'Hydro', 'Biomass', 'Oil',\n",
       "       'Nuclear'], dtype=object)"
      ]
     },
     "execution_count": 24,
     "metadata": {},
     "output_type": "execute_result"
    }
   ],
   "source": [
    "#Checking unique values of target column (for classification model)\n",
    "df['primary_fuel'].unique()"
   ]
  },
  {
   "cell_type": "code",
   "execution_count": 25,
   "id": "b3f6d2f1",
   "metadata": {},
   "outputs": [
    {
     "data": {
      "text/html": [
       "<div>\n",
       "<style scoped>\n",
       "    .dataframe tbody tr th:only-of-type {\n",
       "        vertical-align: middle;\n",
       "    }\n",
       "\n",
       "    .dataframe tbody tr th {\n",
       "        vertical-align: top;\n",
       "    }\n",
       "\n",
       "    .dataframe thead th {\n",
       "        text-align: right;\n",
       "    }\n",
       "</style>\n",
       "<table border=\"1\" class=\"dataframe\">\n",
       "  <thead>\n",
       "    <tr style=\"text-align: right;\">\n",
       "      <th></th>\n",
       "      <th>capacity_mw</th>\n",
       "      <th>latitude</th>\n",
       "      <th>longitude</th>\n",
       "      <th>generation_gwh_2014</th>\n",
       "      <th>generation_gwh_2015</th>\n",
       "      <th>generation_gwh_2016</th>\n",
       "      <th>generation_gwh_2017</th>\n",
       "      <th>generation_gwh_2018</th>\n",
       "      <th>Power_plant_age</th>\n",
       "    </tr>\n",
       "  </thead>\n",
       "  <tbody>\n",
       "    <tr>\n",
       "      <th>count</th>\n",
       "      <td>907.000000</td>\n",
       "      <td>907.000000</td>\n",
       "      <td>907.000000</td>\n",
       "      <td>907.000000</td>\n",
       "      <td>907.000000</td>\n",
       "      <td>907.000000</td>\n",
       "      <td>907.000000</td>\n",
       "      <td>907.000000</td>\n",
       "      <td>907.000000</td>\n",
       "    </tr>\n",
       "    <tr>\n",
       "      <th>mean</th>\n",
       "      <td>326.223755</td>\n",
       "      <td>21.197918</td>\n",
       "      <td>77.427103</td>\n",
       "      <td>1516.689956</td>\n",
       "      <td>1510.071296</td>\n",
       "      <td>1565.361383</td>\n",
       "      <td>1657.121797</td>\n",
       "      <td>1665.011030</td>\n",
       "      <td>19.271224</td>\n",
       "    </tr>\n",
       "    <tr>\n",
       "      <th>std</th>\n",
       "      <td>590.085456</td>\n",
       "      <td>6.079148</td>\n",
       "      <td>4.815073</td>\n",
       "      <td>2785.604307</td>\n",
       "      <td>2984.994556</td>\n",
       "      <td>3005.087210</td>\n",
       "      <td>3046.862910</td>\n",
       "      <td>3168.826750</td>\n",
       "      <td>13.158621</td>\n",
       "    </tr>\n",
       "    <tr>\n",
       "      <th>min</th>\n",
       "      <td>0.000000</td>\n",
       "      <td>8.168900</td>\n",
       "      <td>68.644700</td>\n",
       "      <td>0.000000</td>\n",
       "      <td>0.000000</td>\n",
       "      <td>0.000000</td>\n",
       "      <td>0.000000</td>\n",
       "      <td>0.000000</td>\n",
       "      <td>0.000000</td>\n",
       "    </tr>\n",
       "    <tr>\n",
       "      <th>25%</th>\n",
       "      <td>16.725000</td>\n",
       "      <td>17.072000</td>\n",
       "      <td>74.388900</td>\n",
       "      <td>801.123775</td>\n",
       "      <td>711.181225</td>\n",
       "      <td>737.205450</td>\n",
       "      <td>817.977250</td>\n",
       "      <td>751.644375</td>\n",
       "      <td>15.000000</td>\n",
       "    </tr>\n",
       "    <tr>\n",
       "      <th>50%</th>\n",
       "      <td>59.200000</td>\n",
       "      <td>21.281800</td>\n",
       "      <td>76.719500</td>\n",
       "      <td>801.123775</td>\n",
       "      <td>711.181225</td>\n",
       "      <td>737.205450</td>\n",
       "      <td>817.977250</td>\n",
       "      <td>751.644375</td>\n",
       "      <td>17.000000</td>\n",
       "    </tr>\n",
       "    <tr>\n",
       "      <th>75%</th>\n",
       "      <td>385.250000</td>\n",
       "      <td>25.176450</td>\n",
       "      <td>79.206100</td>\n",
       "      <td>801.123775</td>\n",
       "      <td>711.181225</td>\n",
       "      <td>737.205450</td>\n",
       "      <td>817.977250</td>\n",
       "      <td>751.644375</td>\n",
       "      <td>20.000000</td>\n",
       "    </tr>\n",
       "    <tr>\n",
       "      <th>max</th>\n",
       "      <td>4760.000000</td>\n",
       "      <td>34.649000</td>\n",
       "      <td>95.408000</td>\n",
       "      <td>28127.000000</td>\n",
       "      <td>30539.000000</td>\n",
       "      <td>30015.000000</td>\n",
       "      <td>35116.000000</td>\n",
       "      <td>35136.000000</td>\n",
       "      <td>91.000000</td>\n",
       "    </tr>\n",
       "  </tbody>\n",
       "</table>\n",
       "</div>"
      ],
      "text/plain": [
       "       capacity_mw    latitude   longitude  generation_gwh_2014  \\\n",
       "count   907.000000  907.000000  907.000000           907.000000   \n",
       "mean    326.223755   21.197918   77.427103          1516.689956   \n",
       "std     590.085456    6.079148    4.815073          2785.604307   \n",
       "min       0.000000    8.168900   68.644700             0.000000   \n",
       "25%      16.725000   17.072000   74.388900           801.123775   \n",
       "50%      59.200000   21.281800   76.719500           801.123775   \n",
       "75%     385.250000   25.176450   79.206100           801.123775   \n",
       "max    4760.000000   34.649000   95.408000         28127.000000   \n",
       "\n",
       "       generation_gwh_2015  generation_gwh_2016  generation_gwh_2017  \\\n",
       "count           907.000000           907.000000           907.000000   \n",
       "mean           1510.071296          1565.361383          1657.121797   \n",
       "std            2984.994556          3005.087210          3046.862910   \n",
       "min               0.000000             0.000000             0.000000   \n",
       "25%             711.181225           737.205450           817.977250   \n",
       "50%             711.181225           737.205450           817.977250   \n",
       "75%             711.181225           737.205450           817.977250   \n",
       "max           30539.000000         30015.000000         35116.000000   \n",
       "\n",
       "       generation_gwh_2018  Power_plant_age  \n",
       "count           907.000000       907.000000  \n",
       "mean           1665.011030        19.271224  \n",
       "std            3168.826750        13.158621  \n",
       "min               0.000000         0.000000  \n",
       "25%             751.644375        15.000000  \n",
       "50%             751.644375        17.000000  \n",
       "75%             751.644375        20.000000  \n",
       "max           35136.000000        91.000000  "
      ]
     },
     "execution_count": 25,
     "metadata": {},
     "output_type": "execute_result"
    }
   ],
   "source": [
    "#Checking description of data set\n",
    "df.describe()"
   ]
  },
  {
   "cell_type": "markdown",
   "id": "2c1617bd",
   "metadata": {},
   "source": [
    "There is a huge difference in mean and 2nq quantile of capacity_mw column which means there are extream outliers in the column.\n",
    "Mean and 2nd quantile all other columns are almost same.\n",
    "Mean of generation_gwh_2017 is high compared to other columns which means the power production is high in 2017."
   ]
  },
  {
   "cell_type": "code",
   "execution_count": 26,
   "id": "e5adf0d8",
   "metadata": {},
   "outputs": [
    {
     "name": "stdout",
     "output_type": "stream",
     "text": [
      "['primary_fuel', 'other_fuel1', 'source', 'geolocation_source']\n"
     ]
    }
   ],
   "source": [
    "# checking for categorical columns\n",
    "categorical_columns=[]\n",
    "for i in df.dtypes.index:\n",
    "    if df.dtypes[i]=='object':\n",
    "        categorical_columns.append(i)\n",
    "print(categorical_columns)"
   ]
  },
  {
   "cell_type": "code",
   "execution_count": 27,
   "id": "7427536d",
   "metadata": {},
   "outputs": [
    {
     "name": "stdout",
     "output_type": "stream",
     "text": [
      "['capacity_mw', 'latitude', 'longitude', 'generation_gwh_2014', 'generation_gwh_2015', 'generation_gwh_2016', 'generation_gwh_2017', 'generation_gwh_2018', 'Power_plant_age']\n"
     ]
    }
   ],
   "source": [
    "# Now checking for numerical columns\n",
    "numerical_columns=[]\n",
    "for i in df.dtypes.index:\n",
    "    if df.dtypes[i]!='object':\n",
    "        numerical_columns.append(i)\n",
    "print(numerical_columns)"
   ]
  },
  {
   "cell_type": "code",
   "execution_count": 28,
   "id": "a1061ca5",
   "metadata": {},
   "outputs": [
    {
     "data": {
      "image/png": "[encoded data removed]",
      "text/plain": [
       "<Figure size 576x288 with 1 Axes>"
      ]
     },
     "metadata": {
      "needs_background": "light"
     },
     "output_type": "display_data"
    },
    {
     "data": {
      "image/png": "[encoded data removed]",
      "text/plain": [
       "<Figure size 576x288 with 1 Axes>"
      ]
     },
     "metadata": {
      "needs_background": "light"
     },
     "output_type": "display_data"
    },
    {
     "data": {
      "image/png": "[encoded data removed]",
      "text/plain": [
       "<Figure size 576x288 with 1 Axes>"
      ]
     },
     "metadata": {
      "needs_background": "light"
     },
     "output_type": "display_data"
    },
    {
     "data": {
      "image/png": "[encoded data removed]",
      "text/plain": [
       "<Figure size 576x288 with 1 Axes>"
      ]
     },
     "metadata": {
      "needs_background": "light"
     },
     "output_type": "display_data"
    },
    {
     "data": {
      "image/png": "[encoded data removed]",
      "text/plain": [
       "<Figure size 576x288 with 1 Axes>"
      ]
     },
     "metadata": {
      "needs_background": "light"
     },
     "output_type": "display_data"
    },
    {
     "data": {
      "image/png": "[encoded data removed]",
      "text/plain": [
       "<Figure size 576x288 with 1 Axes>"
      ]
     },
     "metadata": {
      "needs_background": "light"
     },
     "output_type": "display_data"
    },
    {
     "data": {
      "image/png": "[encoded data removed]",
      "text/plain": [
       "<Figure size 576x288 with 1 Axes>"
      ]
     },
     "metadata": {
      "needs_background": "light"
     },
     "output_type": "display_data"
    },
    {
     "data": {
      "image/png": "[encoded data removed]",
      "text/plain": [
       "<Figure size 576x288 with 1 Axes>"
      ]
     },
     "metadata": {
      "needs_background": "light"
     },
     "output_type": "display_data"
    },
    {
     "data": {
      "image/png": "[encoded data removed]",
      "text/plain": [
       "<Figure size 576x288 with 1 Axes>"
      ]
     },
     "metadata": {
      "needs_background": "light"
     },
     "output_type": "display_data"
    }
   ],
   "source": [
    "#Distribution plot for all numerical columns\n",
    "for i in df[numerical_columns]:              \n",
    "    plt.figure(figsize = (8, 4))\n",
    "    sns.distplot(df[i], bins = 10, color=\"indigo\")\n",
    "    plt.title(i)\n",
    "    plt.show()"
   ]
  },
  {
   "cell_type": "markdown",
   "id": "19ff2201",
   "metadata": {},
   "source": [
    "Expect for latitude column all other columns are right skewed."
   ]
  },
  {
   "cell_type": "code",
   "execution_count": 29,
   "id": "84d305e0",
   "metadata": {},
   "outputs": [
    {
     "data": {
      "image/png": "[encoded data removed]",
      "text/plain": [
       "<Figure size 432x288 with 1 Axes>"
      ]
     },
     "metadata": {
      "needs_background": "light"
     },
     "output_type": "display_data"
    }
   ],
   "source": [
    "sns.countplot(x='other_fuel1',hue ='primary_fuel',data = df)\n",
    "plt.xticks(rotation =90)\n",
    "plt.legend(loc='upper right')\n",
    "plt.show()"
   ]
  },
  {
   "cell_type": "markdown",
   "id": "d307faa4",
   "metadata": {},
   "source": [
    "# Data Cleaning:\n",
    "    \n",
    "    \n",
    "# Checking for outliers:"
   ]
  },
  {
   "cell_type": "code",
   "execution_count": 32,
   "id": "04a9285b",
   "metadata": {},
   "outputs": [
    {
     "data": {
      "image/png": "[encoded data removed]",
      "text/plain": [
       "<Figure size 1440x1800 with 9 Axes>"
      ]
     },
     "metadata": {},
     "output_type": "display_data"
    }
   ],
   "source": [
    "# Identifying the outliers using boxplot\n",
    "\n",
    "plt.figure(figsize=(20,25),facecolor='white')\n",
    "plotnumber=1\n",
    "for column in numerical_columns:\n",
    "    if plotnumber<=9:\n",
    "        ax=plt.subplot(3,3,plotnumber)\n",
    "        sns.boxplot(df[column],color='g')\n",
    "        plt.xlabel(column,fontsize=20)\n",
    "    plotnumber+=1\n",
    "plt.tight_layout()"
   ]
  },
  {
   "cell_type": "markdown",
   "id": "82fe6fc7",
   "metadata": {},
   "source": [
    "here are outliers in\n",
    "\n",
    "longitude\n",
    "generation_gwh_2013\n",
    "generation_gwh_2014\n",
    "generation_gwh_2015 generation_gwh_2016 generation_gwh_2017 generation_gwh_2018 Power_plant_age Since capacity_mw is my target no need to remove outliers in that column."
   ]
  },
  {
   "cell_type": "markdown",
   "id": "3ba0c1ed",
   "metadata": {},
   "source": [
    "# Removing outliers:\n",
    "# Zscore Method:"
   ]
  },
  {
   "cell_type": "code",
   "execution_count": 33,
   "id": "bed26c4c",
   "metadata": {},
   "outputs": [],
   "source": [
    "#Features having outliers\n",
    "features=df[['longitude','generation_gwh_2014','generation_gwh_2015','generation_gwh_2016','generation_gwh_2017','generation_gwh_2018','Power_plant_age']]"
   ]
  },
  {
   "cell_type": "code",
   "execution_count": 34,
   "id": "812ca73b",
   "metadata": {},
   "outputs": [
    {
     "data": {
      "text/html": [
       "<div>\n",
       "<style scoped>\n",
       "    .dataframe tbody tr th:only-of-type {\n",
       "        vertical-align: middle;\n",
       "    }\n",
       "\n",
       "    .dataframe tbody tr th {\n",
       "        vertical-align: top;\n",
       "    }\n",
       "\n",
       "    .dataframe thead th {\n",
       "        text-align: right;\n",
       "    }\n",
       "</style>\n",
       "<table border=\"1\" class=\"dataframe\">\n",
       "  <thead>\n",
       "    <tr style=\"text-align: right;\">\n",
       "      <th></th>\n",
       "      <th>capacity_mw</th>\n",
       "      <th>latitude</th>\n",
       "      <th>longitude</th>\n",
       "      <th>primary_fuel</th>\n",
       "      <th>other_fuel1</th>\n",
       "      <th>source</th>\n",
       "      <th>geolocation_source</th>\n",
       "      <th>generation_gwh_2014</th>\n",
       "      <th>generation_gwh_2015</th>\n",
       "      <th>generation_gwh_2016</th>\n",
       "      <th>generation_gwh_2017</th>\n",
       "      <th>generation_gwh_2018</th>\n",
       "      <th>Power_plant_age</th>\n",
       "    </tr>\n",
       "  </thead>\n",
       "  <tbody>\n",
       "    <tr>\n",
       "      <th>0</th>\n",
       "      <td>2.5</td>\n",
       "      <td>28.1839</td>\n",
       "      <td>73.2407</td>\n",
       "      <td>Solar</td>\n",
       "      <td>Oil</td>\n",
       "      <td>National Renewable Energy Laboratory</td>\n",
       "      <td>National Renewable Energy Laboratory</td>\n",
       "      <td>801.123775</td>\n",
       "      <td>711.181225</td>\n",
       "      <td>737.205450</td>\n",
       "      <td>817.977250</td>\n",
       "      <td>751.644375</td>\n",
       "      <td>7.0</td>\n",
       "    </tr>\n",
       "    <tr>\n",
       "      <th>1</th>\n",
       "      <td>98.0</td>\n",
       "      <td>24.7663</td>\n",
       "      <td>74.6090</td>\n",
       "      <td>Coal</td>\n",
       "      <td>Oil</td>\n",
       "      <td>Ultratech Cement ltd</td>\n",
       "      <td>WRI</td>\n",
       "      <td>801.123775</td>\n",
       "      <td>711.181225</td>\n",
       "      <td>737.205450</td>\n",
       "      <td>817.977250</td>\n",
       "      <td>751.644375</td>\n",
       "      <td>17.0</td>\n",
       "    </tr>\n",
       "    <tr>\n",
       "      <th>2</th>\n",
       "      <td>39.2</td>\n",
       "      <td>21.9038</td>\n",
       "      <td>69.3732</td>\n",
       "      <td>Wind</td>\n",
       "      <td>Oil</td>\n",
       "      <td>CDM</td>\n",
       "      <td>WRI</td>\n",
       "      <td>801.123775</td>\n",
       "      <td>711.181225</td>\n",
       "      <td>737.205450</td>\n",
       "      <td>817.977250</td>\n",
       "      <td>751.644375</td>\n",
       "      <td>17.0</td>\n",
       "    </tr>\n",
       "    <tr>\n",
       "      <th>3</th>\n",
       "      <td>135.0</td>\n",
       "      <td>23.8712</td>\n",
       "      <td>91.3602</td>\n",
       "      <td>Gas</td>\n",
       "      <td>Oil</td>\n",
       "      <td>Central Electricity Authority</td>\n",
       "      <td>WRI</td>\n",
       "      <td>617.789264</td>\n",
       "      <td>843.747000</td>\n",
       "      <td>886.004428</td>\n",
       "      <td>663.774500</td>\n",
       "      <td>626.239128</td>\n",
       "      <td>14.0</td>\n",
       "    </tr>\n",
       "    <tr>\n",
       "      <th>4</th>\n",
       "      <td>1800.0</td>\n",
       "      <td>21.9603</td>\n",
       "      <td>82.4091</td>\n",
       "      <td>Coal</td>\n",
       "      <td>Oil</td>\n",
       "      <td>Central Electricity Authority</td>\n",
       "      <td>WRI</td>\n",
       "      <td>3035.550000</td>\n",
       "      <td>5916.370000</td>\n",
       "      <td>6243.000000</td>\n",
       "      <td>5385.579736</td>\n",
       "      <td>7279.000000</td>\n",
       "      <td>3.0</td>\n",
       "    </tr>\n",
       "    <tr>\n",
       "      <th>...</th>\n",
       "      <td>...</td>\n",
       "      <td>...</td>\n",
       "      <td>...</td>\n",
       "      <td>...</td>\n",
       "      <td>...</td>\n",
       "      <td>...</td>\n",
       "      <td>...</td>\n",
       "      <td>...</td>\n",
       "      <td>...</td>\n",
       "      <td>...</td>\n",
       "      <td>...</td>\n",
       "      <td>...</td>\n",
       "      <td>...</td>\n",
       "    </tr>\n",
       "    <tr>\n",
       "      <th>902</th>\n",
       "      <td>1600.0</td>\n",
       "      <td>16.2949</td>\n",
       "      <td>77.3568</td>\n",
       "      <td>Coal</td>\n",
       "      <td>Oil</td>\n",
       "      <td>Central Electricity Authority</td>\n",
       "      <td>WRI</td>\n",
       "      <td>801.123775</td>\n",
       "      <td>0.994875</td>\n",
       "      <td>233.596650</td>\n",
       "      <td>865.400000</td>\n",
       "      <td>686.500000</td>\n",
       "      <td>2.0</td>\n",
       "    </tr>\n",
       "    <tr>\n",
       "      <th>903</th>\n",
       "      <td>3.0</td>\n",
       "      <td>12.8932</td>\n",
       "      <td>78.1654</td>\n",
       "      <td>Solar</td>\n",
       "      <td>Oil</td>\n",
       "      <td>Karnataka Power Corporation Limited</td>\n",
       "      <td>Industry About</td>\n",
       "      <td>801.123775</td>\n",
       "      <td>711.181225</td>\n",
       "      <td>737.205450</td>\n",
       "      <td>817.977250</td>\n",
       "      <td>751.644375</td>\n",
       "      <td>17.0</td>\n",
       "    </tr>\n",
       "    <tr>\n",
       "      <th>904</th>\n",
       "      <td>25.5</td>\n",
       "      <td>15.2758</td>\n",
       "      <td>75.5811</td>\n",
       "      <td>Wind</td>\n",
       "      <td>Oil</td>\n",
       "      <td>CDM</td>\n",
       "      <td>WRI</td>\n",
       "      <td>801.123775</td>\n",
       "      <td>711.181225</td>\n",
       "      <td>737.205450</td>\n",
       "      <td>817.977250</td>\n",
       "      <td>751.644375</td>\n",
       "      <td>17.0</td>\n",
       "    </tr>\n",
       "    <tr>\n",
       "      <th>905</th>\n",
       "      <td>80.0</td>\n",
       "      <td>24.3500</td>\n",
       "      <td>73.7477</td>\n",
       "      <td>Coal</td>\n",
       "      <td>Oil</td>\n",
       "      <td>Hindustan Zinc ltd</td>\n",
       "      <td>WRI</td>\n",
       "      <td>801.123775</td>\n",
       "      <td>711.181225</td>\n",
       "      <td>737.205450</td>\n",
       "      <td>817.977250</td>\n",
       "      <td>751.644375</td>\n",
       "      <td>17.0</td>\n",
       "    </tr>\n",
       "    <tr>\n",
       "      <th>906</th>\n",
       "      <td>16.5</td>\n",
       "      <td>9.9344</td>\n",
       "      <td>77.4768</td>\n",
       "      <td>Wind</td>\n",
       "      <td>Oil</td>\n",
       "      <td>CDM</td>\n",
       "      <td>WRI</td>\n",
       "      <td>801.123775</td>\n",
       "      <td>711.181225</td>\n",
       "      <td>737.205450</td>\n",
       "      <td>817.977250</td>\n",
       "      <td>751.644375</td>\n",
       "      <td>17.0</td>\n",
       "    </tr>\n",
       "  </tbody>\n",
       "</table>\n",
       "<p>851 rows × 13 columns</p>\n",
       "</div>"
      ],
      "text/plain": [
       "     capacity_mw  latitude  longitude primary_fuel other_fuel1  \\\n",
       "0            2.5   28.1839    73.2407        Solar         Oil   \n",
       "1           98.0   24.7663    74.6090         Coal         Oil   \n",
       "2           39.2   21.9038    69.3732         Wind         Oil   \n",
       "3          135.0   23.8712    91.3602          Gas         Oil   \n",
       "4         1800.0   21.9603    82.4091         Coal         Oil   \n",
       "..           ...       ...        ...          ...         ...   \n",
       "902       1600.0   16.2949    77.3568         Coal         Oil   \n",
       "903          3.0   12.8932    78.1654        Solar         Oil   \n",
       "904         25.5   15.2758    75.5811         Wind         Oil   \n",
       "905         80.0   24.3500    73.7477         Coal         Oil   \n",
       "906         16.5    9.9344    77.4768         Wind         Oil   \n",
       "\n",
       "                                   source  \\\n",
       "0    National Renewable Energy Laboratory   \n",
       "1                    Ultratech Cement ltd   \n",
       "2                                     CDM   \n",
       "3           Central Electricity Authority   \n",
       "4           Central Electricity Authority   \n",
       "..                                    ...   \n",
       "902         Central Electricity Authority   \n",
       "903   Karnataka Power Corporation Limited   \n",
       "904                                   CDM   \n",
       "905                    Hindustan Zinc ltd   \n",
       "906                                   CDM   \n",
       "\n",
       "                       geolocation_source  generation_gwh_2014  \\\n",
       "0    National Renewable Energy Laboratory           801.123775   \n",
       "1                                     WRI           801.123775   \n",
       "2                                     WRI           801.123775   \n",
       "3                                     WRI           617.789264   \n",
       "4                                     WRI          3035.550000   \n",
       "..                                    ...                  ...   \n",
       "902                                   WRI           801.123775   \n",
       "903                        Industry About           801.123775   \n",
       "904                                   WRI           801.123775   \n",
       "905                                   WRI           801.123775   \n",
       "906                                   WRI           801.123775   \n",
       "\n",
       "     generation_gwh_2015  generation_gwh_2016  generation_gwh_2017  \\\n",
       "0             711.181225           737.205450           817.977250   \n",
       "1             711.181225           737.205450           817.977250   \n",
       "2             711.181225           737.205450           817.977250   \n",
       "3             843.747000           886.004428           663.774500   \n",
       "4            5916.370000          6243.000000          5385.579736   \n",
       "..                   ...                  ...                  ...   \n",
       "902             0.994875           233.596650           865.400000   \n",
       "903           711.181225           737.205450           817.977250   \n",
       "904           711.181225           737.205450           817.977250   \n",
       "905           711.181225           737.205450           817.977250   \n",
       "906           711.181225           737.205450           817.977250   \n",
       "\n",
       "     generation_gwh_2018  Power_plant_age  \n",
       "0             751.644375              7.0  \n",
       "1             751.644375             17.0  \n",
       "2             751.644375             17.0  \n",
       "3             626.239128             14.0  \n",
       "4            7279.000000              3.0  \n",
       "..                   ...              ...  \n",
       "902           686.500000              2.0  \n",
       "903           751.644375             17.0  \n",
       "904           751.644375             17.0  \n",
       "905           751.644375             17.0  \n",
       "906           751.644375             17.0  \n",
       "\n",
       "[851 rows x 13 columns]"
      ]
     },
     "execution_count": 34,
     "metadata": {},
     "output_type": "execute_result"
    }
   ],
   "source": [
    "z=np.abs(zscore(features))\n",
    "df_new=df[(z<3).all(axis=1)]\n",
    "df_new"
   ]
  },
  {
   "cell_type": "code",
   "execution_count": 35,
   "id": "e4d08f8a",
   "metadata": {},
   "outputs": [
    {
     "data": {
      "text/plain": [
       "(851, 13)"
      ]
     },
     "execution_count": 35,
     "metadata": {},
     "output_type": "execute_result"
    }
   ],
   "source": [
    "#Checking shape of new dataset\n",
    "df_new.shape"
   ]
  },
  {
   "cell_type": "code",
   "execution_count": 36,
   "id": "a368a8b2",
   "metadata": {},
   "outputs": [
    {
     "data": {
      "text/plain": [
       "6.167400881057269"
      ]
     },
     "execution_count": 36,
     "metadata": {},
     "output_type": "execute_result"
    }
   ],
   "source": [
    "#Checking dataloss\n",
    "Dataloss = (((908-852)/908)*100)\n",
    "Dataloss"
   ]
  },
  {
   "cell_type": "code",
   "execution_count": 37,
   "id": "5c096966",
   "metadata": {},
   "outputs": [],
   "source": [
    "cols=['primary_fuel','other_fuel1','geolocation_source','source']"
   ]
  },
  {
   "cell_type": "code",
   "execution_count": 38,
   "id": "2d8fe288",
   "metadata": {},
   "outputs": [],
   "source": [
    "LE=LabelEncoder()\n",
    "df_new[cols]= df_new[cols].apply(LE.fit_transform)"
   ]
  },
  {
   "cell_type": "code",
   "execution_count": 39,
   "id": "ecd6d8fc",
   "metadata": {},
   "outputs": [
    {
     "data": {
      "text/html": [
       "<div>\n",
       "<style scoped>\n",
       "    .dataframe tbody tr th:only-of-type {\n",
       "        vertical-align: middle;\n",
       "    }\n",
       "\n",
       "    .dataframe tbody tr th {\n",
       "        vertical-align: top;\n",
       "    }\n",
       "\n",
       "    .dataframe thead th {\n",
       "        text-align: right;\n",
       "    }\n",
       "</style>\n",
       "<table border=\"1\" class=\"dataframe\">\n",
       "  <thead>\n",
       "    <tr style=\"text-align: right;\">\n",
       "      <th></th>\n",
       "      <th>primary_fuel</th>\n",
       "      <th>other_fuel1</th>\n",
       "      <th>geolocation_source</th>\n",
       "      <th>source</th>\n",
       "    </tr>\n",
       "  </thead>\n",
       "  <tbody>\n",
       "    <tr>\n",
       "      <th>0</th>\n",
       "      <td>6</td>\n",
       "      <td>2</td>\n",
       "      <td>1</td>\n",
       "      <td>109</td>\n",
       "    </tr>\n",
       "    <tr>\n",
       "      <th>1</th>\n",
       "      <td>1</td>\n",
       "      <td>2</td>\n",
       "      <td>2</td>\n",
       "      <td>174</td>\n",
       "    </tr>\n",
       "    <tr>\n",
       "      <th>2</th>\n",
       "      <td>7</td>\n",
       "      <td>2</td>\n",
       "      <td>2</td>\n",
       "      <td>21</td>\n",
       "    </tr>\n",
       "    <tr>\n",
       "      <th>3</th>\n",
       "      <td>2</td>\n",
       "      <td>2</td>\n",
       "      <td>2</td>\n",
       "      <td>22</td>\n",
       "    </tr>\n",
       "    <tr>\n",
       "      <th>4</th>\n",
       "      <td>1</td>\n",
       "      <td>2</td>\n",
       "      <td>2</td>\n",
       "      <td>22</td>\n",
       "    </tr>\n",
       "  </tbody>\n",
       "</table>\n",
       "</div>"
      ],
      "text/plain": [
       "   primary_fuel  other_fuel1  geolocation_source  source\n",
       "0             6            2                   1     109\n",
       "1             1            2                   2     174\n",
       "2             7            2                   2      21\n",
       "3             2            2                   2      22\n",
       "4             1            2                   2      22"
      ]
     },
     "execution_count": 39,
     "metadata": {},
     "output_type": "execute_result"
    }
   ],
   "source": [
    "df_new[cols].head()"
   ]
  },
  {
   "cell_type": "markdown",
   "id": "7b3ac67d",
   "metadata": {},
   "source": [
    "# Check for the correlation\n"
   ]
  },
  {
   "cell_type": "code",
   "execution_count": 40,
   "id": "f07e90ed",
   "metadata": {},
   "outputs": [
    {
     "data": {
      "text/html": [
       "<div>\n",
       "<style scoped>\n",
       "    .dataframe tbody tr th:only-of-type {\n",
       "        vertical-align: middle;\n",
       "    }\n",
       "\n",
       "    .dataframe tbody tr th {\n",
       "        vertical-align: top;\n",
       "    }\n",
       "\n",
       "    .dataframe thead th {\n",
       "        text-align: right;\n",
       "    }\n",
       "</style>\n",
       "<table border=\"1\" class=\"dataframe\">\n",
       "  <thead>\n",
       "    <tr style=\"text-align: right;\">\n",
       "      <th></th>\n",
       "      <th>capacity_mw</th>\n",
       "      <th>latitude</th>\n",
       "      <th>longitude</th>\n",
       "      <th>primary_fuel</th>\n",
       "      <th>other_fuel1</th>\n",
       "      <th>source</th>\n",
       "      <th>geolocation_source</th>\n",
       "      <th>generation_gwh_2014</th>\n",
       "      <th>generation_gwh_2015</th>\n",
       "      <th>generation_gwh_2016</th>\n",
       "      <th>generation_gwh_2017</th>\n",
       "      <th>generation_gwh_2018</th>\n",
       "      <th>Power_plant_age</th>\n",
       "    </tr>\n",
       "  </thead>\n",
       "  <tbody>\n",
       "    <tr>\n",
       "      <th>capacity_mw</th>\n",
       "      <td>1.000000</td>\n",
       "      <td>0.050588</td>\n",
       "      <td>0.257582</td>\n",
       "      <td>-0.398039</td>\n",
       "      <td>-0.001758</td>\n",
       "      <td>-0.275724</td>\n",
       "      <td>0.234543</td>\n",
       "      <td>0.620202</td>\n",
       "      <td>0.680949</td>\n",
       "      <td>0.750088</td>\n",
       "      <td>0.788972</td>\n",
       "      <td>0.815198</td>\n",
       "      <td>-0.241487</td>\n",
       "    </tr>\n",
       "    <tr>\n",
       "      <th>latitude</th>\n",
       "      <td>0.050588</td>\n",
       "      <td>1.000000</td>\n",
       "      <td>-0.014145</td>\n",
       "      <td>-0.002561</td>\n",
       "      <td>0.037049</td>\n",
       "      <td>0.069430</td>\n",
       "      <td>-0.203340</td>\n",
       "      <td>0.081661</td>\n",
       "      <td>0.071346</td>\n",
       "      <td>0.057301</td>\n",
       "      <td>0.071296</td>\n",
       "      <td>0.064558</td>\n",
       "      <td>-0.097033</td>\n",
       "    </tr>\n",
       "    <tr>\n",
       "      <th>longitude</th>\n",
       "      <td>0.257582</td>\n",
       "      <td>-0.014145</td>\n",
       "      <td>1.000000</td>\n",
       "      <td>-0.382975</td>\n",
       "      <td>0.029191</td>\n",
       "      <td>-0.235719</td>\n",
       "      <td>0.263739</td>\n",
       "      <td>0.119473</td>\n",
       "      <td>0.154522</td>\n",
       "      <td>0.195299</td>\n",
       "      <td>0.196529</td>\n",
       "      <td>0.204421</td>\n",
       "      <td>-0.080034</td>\n",
       "    </tr>\n",
       "    <tr>\n",
       "      <th>primary_fuel</th>\n",
       "      <td>-0.398039</td>\n",
       "      <td>-0.002561</td>\n",
       "      <td>-0.382975</td>\n",
       "      <td>1.000000</td>\n",
       "      <td>0.006463</td>\n",
       "      <td>0.038558</td>\n",
       "      <td>-0.478601</td>\n",
       "      <td>-0.250101</td>\n",
       "      <td>-0.276308</td>\n",
       "      <td>-0.286624</td>\n",
       "      <td>-0.289232</td>\n",
       "      <td>-0.298364</td>\n",
       "      <td>0.074358</td>\n",
       "    </tr>\n",
       "    <tr>\n",
       "      <th>other_fuel1</th>\n",
       "      <td>-0.001758</td>\n",
       "      <td>0.037049</td>\n",
       "      <td>0.029191</td>\n",
       "      <td>0.006463</td>\n",
       "      <td>1.000000</td>\n",
       "      <td>0.028471</td>\n",
       "      <td>-0.022827</td>\n",
       "      <td>-0.000530</td>\n",
       "      <td>0.006092</td>\n",
       "      <td>0.015479</td>\n",
       "      <td>0.011842</td>\n",
       "      <td>0.022700</td>\n",
       "      <td>-0.058103</td>\n",
       "    </tr>\n",
       "    <tr>\n",
       "      <th>source</th>\n",
       "      <td>-0.275724</td>\n",
       "      <td>0.069430</td>\n",
       "      <td>-0.235719</td>\n",
       "      <td>0.038558</td>\n",
       "      <td>0.028471</td>\n",
       "      <td>1.000000</td>\n",
       "      <td>-0.497893</td>\n",
       "      <td>-0.141496</td>\n",
       "      <td>-0.156317</td>\n",
       "      <td>-0.158561</td>\n",
       "      <td>-0.156155</td>\n",
       "      <td>-0.165232</td>\n",
       "      <td>-0.075353</td>\n",
       "    </tr>\n",
       "    <tr>\n",
       "      <th>geolocation_source</th>\n",
       "      <td>0.234543</td>\n",
       "      <td>-0.203340</td>\n",
       "      <td>0.263739</td>\n",
       "      <td>-0.478601</td>\n",
       "      <td>-0.022827</td>\n",
       "      <td>-0.497893</td>\n",
       "      <td>1.000000</td>\n",
       "      <td>0.113446</td>\n",
       "      <td>0.125329</td>\n",
       "      <td>0.127128</td>\n",
       "      <td>0.125199</td>\n",
       "      <td>0.132477</td>\n",
       "      <td>0.051608</td>\n",
       "    </tr>\n",
       "    <tr>\n",
       "      <th>generation_gwh_2014</th>\n",
       "      <td>0.620202</td>\n",
       "      <td>0.081661</td>\n",
       "      <td>0.119473</td>\n",
       "      <td>-0.250101</td>\n",
       "      <td>-0.000530</td>\n",
       "      <td>-0.141496</td>\n",
       "      <td>0.113446</td>\n",
       "      <td>1.000000</td>\n",
       "      <td>0.912185</td>\n",
       "      <td>0.801237</td>\n",
       "      <td>0.746130</td>\n",
       "      <td>0.738063</td>\n",
       "      <td>-0.059768</td>\n",
       "    </tr>\n",
       "    <tr>\n",
       "      <th>generation_gwh_2015</th>\n",
       "      <td>0.680949</td>\n",
       "      <td>0.071346</td>\n",
       "      <td>0.154522</td>\n",
       "      <td>-0.276308</td>\n",
       "      <td>0.006092</td>\n",
       "      <td>-0.156317</td>\n",
       "      <td>0.125329</td>\n",
       "      <td>0.912185</td>\n",
       "      <td>1.000000</td>\n",
       "      <td>0.907984</td>\n",
       "      <td>0.830394</td>\n",
       "      <td>0.821726</td>\n",
       "      <td>-0.130252</td>\n",
       "    </tr>\n",
       "    <tr>\n",
       "      <th>generation_gwh_2016</th>\n",
       "      <td>0.750088</td>\n",
       "      <td>0.057301</td>\n",
       "      <td>0.195299</td>\n",
       "      <td>-0.286624</td>\n",
       "      <td>0.015479</td>\n",
       "      <td>-0.158561</td>\n",
       "      <td>0.127128</td>\n",
       "      <td>0.801237</td>\n",
       "      <td>0.907984</td>\n",
       "      <td>1.000000</td>\n",
       "      <td>0.932729</td>\n",
       "      <td>0.913720</td>\n",
       "      <td>-0.199087</td>\n",
       "    </tr>\n",
       "    <tr>\n",
       "      <th>generation_gwh_2017</th>\n",
       "      <td>0.788972</td>\n",
       "      <td>0.071296</td>\n",
       "      <td>0.196529</td>\n",
       "      <td>-0.289232</td>\n",
       "      <td>0.011842</td>\n",
       "      <td>-0.156155</td>\n",
       "      <td>0.125199</td>\n",
       "      <td>0.746130</td>\n",
       "      <td>0.830394</td>\n",
       "      <td>0.932729</td>\n",
       "      <td>1.000000</td>\n",
       "      <td>0.964318</td>\n",
       "      <td>-0.221382</td>\n",
       "    </tr>\n",
       "    <tr>\n",
       "      <th>generation_gwh_2018</th>\n",
       "      <td>0.815198</td>\n",
       "      <td>0.064558</td>\n",
       "      <td>0.204421</td>\n",
       "      <td>-0.298364</td>\n",
       "      <td>0.022700</td>\n",
       "      <td>-0.165232</td>\n",
       "      <td>0.132477</td>\n",
       "      <td>0.738063</td>\n",
       "      <td>0.821726</td>\n",
       "      <td>0.913720</td>\n",
       "      <td>0.964318</td>\n",
       "      <td>1.000000</td>\n",
       "      <td>-0.221134</td>\n",
       "    </tr>\n",
       "    <tr>\n",
       "      <th>Power_plant_age</th>\n",
       "      <td>-0.241487</td>\n",
       "      <td>-0.097033</td>\n",
       "      <td>-0.080034</td>\n",
       "      <td>0.074358</td>\n",
       "      <td>-0.058103</td>\n",
       "      <td>-0.075353</td>\n",
       "      <td>0.051608</td>\n",
       "      <td>-0.059768</td>\n",
       "      <td>-0.130252</td>\n",
       "      <td>-0.199087</td>\n",
       "      <td>-0.221382</td>\n",
       "      <td>-0.221134</td>\n",
       "      <td>1.000000</td>\n",
       "    </tr>\n",
       "  </tbody>\n",
       "</table>\n",
       "</div>"
      ],
      "text/plain": [
       "                     capacity_mw  latitude  longitude  primary_fuel  \\\n",
       "capacity_mw             1.000000  0.050588   0.257582     -0.398039   \n",
       "latitude                0.050588  1.000000  -0.014145     -0.002561   \n",
       "longitude               0.257582 -0.014145   1.000000     -0.382975   \n",
       "primary_fuel           -0.398039 -0.002561  -0.382975      1.000000   \n",
       "other_fuel1            -0.001758  0.037049   0.029191      0.006463   \n",
       "source                 -0.275724  0.069430  -0.235719      0.038558   \n",
       "geolocation_source      0.234543 -0.203340   0.263739     -0.478601   \n",
       "generation_gwh_2014     0.620202  0.081661   0.119473     -0.250101   \n",
       "generation_gwh_2015     0.680949  0.071346   0.154522     -0.276308   \n",
       "generation_gwh_2016     0.750088  0.057301   0.195299     -0.286624   \n",
       "generation_gwh_2017     0.788972  0.071296   0.196529     -0.289232   \n",
       "generation_gwh_2018     0.815198  0.064558   0.204421     -0.298364   \n",
       "Power_plant_age        -0.241487 -0.097033  -0.080034      0.074358   \n",
       "\n",
       "                     other_fuel1    source  geolocation_source  \\\n",
       "capacity_mw            -0.001758 -0.275724            0.234543   \n",
       "latitude                0.037049  0.069430           -0.203340   \n",
       "longitude               0.029191 -0.235719            0.263739   \n",
       "primary_fuel            0.006463  0.038558           -0.478601   \n",
       "other_fuel1             1.000000  0.028471           -0.022827   \n",
       "source                  0.028471  1.000000           -0.497893   \n",
       "geolocation_source     -0.022827 -0.497893            1.000000   \n",
       "generation_gwh_2014    -0.000530 -0.141496            0.113446   \n",
       "generation_gwh_2015     0.006092 -0.156317            0.125329   \n",
       "generation_gwh_2016     0.015479 -0.158561            0.127128   \n",
       "generation_gwh_2017     0.011842 -0.156155            0.125199   \n",
       "generation_gwh_2018     0.022700 -0.165232            0.132477   \n",
       "Power_plant_age        -0.058103 -0.075353            0.051608   \n",
       "\n",
       "                     generation_gwh_2014  generation_gwh_2015  \\\n",
       "capacity_mw                     0.620202             0.680949   \n",
       "latitude                        0.081661             0.071346   \n",
       "longitude                       0.119473             0.154522   \n",
       "primary_fuel                   -0.250101            -0.276308   \n",
       "other_fuel1                    -0.000530             0.006092   \n",
       "source                         -0.141496            -0.156317   \n",
       "geolocation_source              0.113446             0.125329   \n",
       "generation_gwh_2014             1.000000             0.912185   \n",
       "generation_gwh_2015             0.912185             1.000000   \n",
       "generation_gwh_2016             0.801237             0.907984   \n",
       "generation_gwh_2017             0.746130             0.830394   \n",
       "generation_gwh_2018             0.738063             0.821726   \n",
       "Power_plant_age                -0.059768            -0.130252   \n",
       "\n",
       "                     generation_gwh_2016  generation_gwh_2017  \\\n",
       "capacity_mw                     0.750088             0.788972   \n",
       "latitude                        0.057301             0.071296   \n",
       "longitude                       0.195299             0.196529   \n",
       "primary_fuel                   -0.286624            -0.289232   \n",
       "other_fuel1                     0.015479             0.011842   \n",
       "source                         -0.158561            -0.156155   \n",
       "geolocation_source              0.127128             0.125199   \n",
       "generation_gwh_2014             0.801237             0.746130   \n",
       "generation_gwh_2015             0.907984             0.830394   \n",
       "generation_gwh_2016             1.000000             0.932729   \n",
       "generation_gwh_2017             0.932729             1.000000   \n",
       "generation_gwh_2018             0.913720             0.964318   \n",
       "Power_plant_age                -0.199087            -0.221382   \n",
       "\n",
       "                     generation_gwh_2018  Power_plant_age  \n",
       "capacity_mw                     0.815198        -0.241487  \n",
       "latitude                        0.064558        -0.097033  \n",
       "longitude                       0.204421        -0.080034  \n",
       "primary_fuel                   -0.298364         0.074358  \n",
       "other_fuel1                     0.022700        -0.058103  \n",
       "source                         -0.165232        -0.075353  \n",
       "geolocation_source              0.132477         0.051608  \n",
       "generation_gwh_2014             0.738063        -0.059768  \n",
       "generation_gwh_2015             0.821726        -0.130252  \n",
       "generation_gwh_2016             0.913720        -0.199087  \n",
       "generation_gwh_2017             0.964318        -0.221382  \n",
       "generation_gwh_2018             1.000000        -0.221134  \n",
       "Power_plant_age                -0.221134         1.000000  "
      ]
     },
     "execution_count": 40,
     "metadata": {},
     "output_type": "execute_result"
    }
   ],
   "source": [
    "df_new.corr()"
   ]
  },
  {
   "cell_type": "markdown",
   "id": "59dd7791",
   "metadata": {},
   "source": [
    "Above are the correlations of all the pair of features.To get better visualization on the correlation of features,let me plot it using heat map."
   ]
  },
  {
   "cell_type": "code",
   "execution_count": 41,
   "id": "58b69c8b",
   "metadata": {},
   "outputs": [
    {
     "data": {
      "image/png": "[encoded data removed]",
      "text/plain": [
       "<Figure size 1440x1080 with 2 Axes>"
      ]
     },
     "metadata": {
      "needs_background": "light"
     },
     "output_type": "display_data"
    }
   ],
   "source": [
    "# Visualizing the correlation matrix by plotting heat map.\n",
    "plt.figure(figsize=(20,15))\n",
    "sns.heatmap(df_new.corr(),linewidths=.1,vmin=-1, vmax=1, fmt='.1g', annot = True, linecolor=\"black\",annot_kws={'size':10})\n",
    "plt.yticks(rotation=0);"
   ]
  },
  {
   "cell_type": "markdown",
   "id": "fe224adc",
   "metadata": {},
   "source": [
    "Above are the correlations of features.I can consider that if capacity_mw is my target then\n",
    "\n",
    "latitude and other_fuel1 are very less correlated with capacity_mw. If i consider Fuel_type as target then\n",
    "\n",
    "latitude, other_fuel1, source and Power_plant_age are very less correlated with Fuel_type.\n",
    "If i consider the independent features then\n",
    "\n",
    "geolocation_gwh_2013 and geolocation_gwh_2014 are highly correlated.\n",
    "\n",
    "\n",
    "geolocation_gwh_2013 and geolocation_gwh_2015 are highly correlated.\n",
    "\n",
    "geolocation_gwh_2014 and geolocation_gwh_2015 are highly correlated.\n",
    "\n",
    "geolocation_gwh_2015 and geolocation_gwh_2016 are highly correlated.\n",
    "\n",
    "geolocation_gwh_2016 and geolocation_gwh_2014 are highly correlated.\n",
    "\n",
    "geolocation_gwh_2017 and geolocation_gwh_2015 are highly correlated.\n",
    "\n",
    "capacity_mw is highly correlated with geolocation_gwh_2016.\n",
    "\n",
    "capacity_mw is highly correlated with geolocation_gwh_2017."
   ]
  },
  {
   "cell_type": "code",
   "execution_count": 42,
   "id": "7db9428d",
   "metadata": {},
   "outputs": [
    {
     "data": {
      "image/png": "[encoded data removed]",
      "text/plain": [
       "<Figure size 1440x720 with 1 Axes>"
      ]
     },
     "metadata": {
      "needs_background": "light"
     },
     "output_type": "display_data"
    }
   ],
   "source": [
    "plt.figure(figsize=(20,10))\n",
    "df_new.corr()['capacity_mw'].sort_values(ascending=False).drop(['capacity_mw']).plot(kind='bar',color='c')\n",
    "plt.xlabel('Feature',fontsize=14)\n",
    "plt.ylabel('column with target names',fontsize=14)\n",
    "plt.title('correlation',fontsize=18)\n",
    "plt.show()\n"
   ]
  },
  {
   "cell_type": "markdown",
   "id": "895f9d1e",
   "metadata": {},
   "source": [
    "Latitude and other_fuel1 is very less correlated with Fuel_type1.So i can drop them."
   ]
  },
  {
   "cell_type": "code",
   "execution_count": 43,
   "id": "53078aa7",
   "metadata": {},
   "outputs": [],
   "source": [
    "#Droping less correlated column\n",
    "df_new = df_new.drop([\"other_fuel1\"],axis=1)\n",
    "df_new = df_new.drop([\"latitude\"],axis=1)"
   ]
  },
  {
   "cell_type": "code",
   "execution_count": 44,
   "id": "6d564f5a",
   "metadata": {},
   "outputs": [
    {
     "data": {
      "text/html": [
       "<div>\n",
       "<style scoped>\n",
       "    .dataframe tbody tr th:only-of-type {\n",
       "        vertical-align: middle;\n",
       "    }\n",
       "\n",
       "    .dataframe tbody tr th {\n",
       "        vertical-align: top;\n",
       "    }\n",
       "\n",
       "    .dataframe thead th {\n",
       "        text-align: right;\n",
       "    }\n",
       "</style>\n",
       "<table border=\"1\" class=\"dataframe\">\n",
       "  <thead>\n",
       "    <tr style=\"text-align: right;\">\n",
       "      <th></th>\n",
       "      <th>capacity_mw</th>\n",
       "      <th>longitude</th>\n",
       "      <th>primary_fuel</th>\n",
       "      <th>source</th>\n",
       "      <th>geolocation_source</th>\n",
       "      <th>generation_gwh_2014</th>\n",
       "      <th>generation_gwh_2015</th>\n",
       "      <th>generation_gwh_2016</th>\n",
       "      <th>generation_gwh_2017</th>\n",
       "      <th>generation_gwh_2018</th>\n",
       "      <th>Power_plant_age</th>\n",
       "    </tr>\n",
       "  </thead>\n",
       "  <tbody>\n",
       "    <tr>\n",
       "      <th>0</th>\n",
       "      <td>2.5</td>\n",
       "      <td>73.2407</td>\n",
       "      <td>6</td>\n",
       "      <td>109</td>\n",
       "      <td>1</td>\n",
       "      <td>801.123775</td>\n",
       "      <td>711.181225</td>\n",
       "      <td>737.20545</td>\n",
       "      <td>817.97725</td>\n",
       "      <td>751.644375</td>\n",
       "      <td>7.0</td>\n",
       "    </tr>\n",
       "    <tr>\n",
       "      <th>1</th>\n",
       "      <td>98.0</td>\n",
       "      <td>74.6090</td>\n",
       "      <td>1</td>\n",
       "      <td>174</td>\n",
       "      <td>2</td>\n",
       "      <td>801.123775</td>\n",
       "      <td>711.181225</td>\n",
       "      <td>737.20545</td>\n",
       "      <td>817.97725</td>\n",
       "      <td>751.644375</td>\n",
       "      <td>17.0</td>\n",
       "    </tr>\n",
       "    <tr>\n",
       "      <th>2</th>\n",
       "      <td>39.2</td>\n",
       "      <td>69.3732</td>\n",
       "      <td>7</td>\n",
       "      <td>21</td>\n",
       "      <td>2</td>\n",
       "      <td>801.123775</td>\n",
       "      <td>711.181225</td>\n",
       "      <td>737.20545</td>\n",
       "      <td>817.97725</td>\n",
       "      <td>751.644375</td>\n",
       "      <td>17.0</td>\n",
       "    </tr>\n",
       "  </tbody>\n",
       "</table>\n",
       "</div>"
      ],
      "text/plain": [
       "   capacity_mw  longitude  primary_fuel  source  geolocation_source  \\\n",
       "0          2.5    73.2407             6     109                   1   \n",
       "1         98.0    74.6090             1     174                   2   \n",
       "2         39.2    69.3732             7      21                   2   \n",
       "\n",
       "   generation_gwh_2014  generation_gwh_2015  generation_gwh_2016  \\\n",
       "0           801.123775           711.181225            737.20545   \n",
       "1           801.123775           711.181225            737.20545   \n",
       "2           801.123775           711.181225            737.20545   \n",
       "\n",
       "   generation_gwh_2017  generation_gwh_2018  Power_plant_age  \n",
       "0            817.97725           751.644375              7.0  \n",
       "1            817.97725           751.644375             17.0  \n",
       "2            817.97725           751.644375             17.0  "
      ]
     },
     "execution_count": 44,
     "metadata": {},
     "output_type": "execute_result"
    }
   ],
   "source": [
    "df_new.head(3)"
   ]
  },
  {
   "cell_type": "code",
   "execution_count": 45,
   "id": "e9ad1fd9",
   "metadata": {},
   "outputs": [
    {
     "data": {
      "text/plain": [
       "(851, 11)"
      ]
     },
     "execution_count": 45,
     "metadata": {},
     "output_type": "execute_result"
    }
   ],
   "source": [
    "df_new.shape"
   ]
  },
  {
   "cell_type": "markdown",
   "id": "9e841e31",
   "metadata": {},
   "source": [
    "# i) Prediction and model building for capacity_mw:\n",
    "First let me predict capacity_mw and since capacity_mw is a continuous column so i have to use regression models.\n",
    "\n",
    "Let me consider the data set df_new for this perticular prediction and i'll remove skewness from independent columns."
   ]
  },
  {
   "cell_type": "markdown",
   "id": "baa1facf",
   "metadata": {},
   "source": [
    "# Separating features and label"
   ]
  },
  {
   "cell_type": "code",
   "execution_count": 48,
   "id": "f33429a1",
   "metadata": {},
   "outputs": [],
   "source": [
    "x = df_new.drop(\"capacity_mw\",axis=1)\n",
    "y = df_new[\"capacity_mw\"]"
   ]
  },
  {
   "cell_type": "markdown",
   "id": "47a98b16",
   "metadata": {},
   "source": [
    "Assigned y as target variable and x as remaining features."
   ]
  },
  {
   "cell_type": "markdown",
   "id": "849c9940",
   "metadata": {},
   "source": [
    "# Checking for skewness"
   ]
  },
  {
   "cell_type": "code",
   "execution_count": 49,
   "id": "117604a9",
   "metadata": {},
   "outputs": [
    {
     "data": {
      "text/plain": [
       "longitude              0.945877\n",
       "primary_fuel           0.413759\n",
       "source                 1.734252\n",
       "geolocation_source    -2.066536\n",
       "generation_gwh_2014    2.943026\n",
       "generation_gwh_2015    2.714999\n",
       "generation_gwh_2016    2.645786\n",
       "generation_gwh_2017    2.546541\n",
       "generation_gwh_2018    2.597029\n",
       "Power_plant_age        1.280800\n",
       "dtype: float64"
      ]
     },
     "execution_count": 49,
     "metadata": {},
     "output_type": "execute_result"
    }
   ],
   "source": [
    "#Checking for skewness\n",
    "x.skew()"
   ]
  },
  {
   "cell_type": "markdown",
   "id": "f29997d1",
   "metadata": {},
   "source": [
    "There is skewness in all column except primary_fuel .geolocation_source and source are categorical columns so no need to remove skewness."
   ]
  },
  {
   "cell_type": "markdown",
   "id": "757f4e82",
   "metadata": {},
   "source": [
    "# Skewness removal"
   ]
  },
  {
   "cell_type": "code",
   "execution_count": 51,
   "id": "d4949157",
   "metadata": {},
   "outputs": [],
   "source": [
    "#list of skewed features\n",
    "skew_fea=['longitude','generation_gwh_2018','generation_gwh_2014','generation_gwh_2015','generation_gwh_2016','generation_gwh_2017','Power_plant_age']"
   ]
  },
  {
   "cell_type": "code",
   "execution_count": 52,
   "id": "9a18e06a",
   "metadata": {},
   "outputs": [
    {
     "data": {
      "text/plain": [
       "\"\\nparameters:\\nmethod = 'box_cox' or 'yeo-johnson'\\n\""
      ]
     },
     "execution_count": 52,
     "metadata": {},
     "output_type": "execute_result"
    }
   ],
   "source": [
    "scaler = PowerTransformer(method='yeo-johnson')\n",
    "'''\n",
    "parameters:\n",
    "method = 'box_cox' or 'yeo-johnson'\n",
    "'''"
   ]
  },
  {
   "cell_type": "code",
   "execution_count": 53,
   "id": "dae50697",
   "metadata": {},
   "outputs": [],
   "source": [
    "#Removing skewness using yeo-johnson\n",
    "x[skew_fea] = scaler.fit_transform(x[skew_fea].values)"
   ]
  },
  {
   "cell_type": "code",
   "execution_count": 54,
   "id": "1a3a7905",
   "metadata": {},
   "outputs": [
    {
     "data": {
      "text/plain": [
       "longitude             -0.000128\n",
       "generation_gwh_2018    0.133691\n",
       "generation_gwh_2014    0.232399\n",
       "generation_gwh_2015    0.163587\n",
       "generation_gwh_2016    0.147035\n",
       "generation_gwh_2017    0.127152\n",
       "Power_plant_age        0.043734\n",
       "dtype: float64"
      ]
     },
     "execution_count": 54,
     "metadata": {},
     "output_type": "execute_result"
    }
   ],
   "source": [
    "#Checking skewness after removing skewness\n",
    "x[skew_fea].skew()"
   ]
  },
  {
   "cell_type": "code",
   "execution_count": 55,
   "id": "fa1062ed",
   "metadata": {},
   "outputs": [
    {
     "data": {
      "image/png": "[encoded data removed]",
      "text/plain": [
       "<Figure size 1080x1080 with 7 Axes>"
      ]
     },
     "metadata": {},
     "output_type": "display_data"
    }
   ],
   "source": [
    "# After removing let's check how the data has been distributed in each column.\n",
    "\n",
    "plt.figure(figsize=(15,15), facecolor='white')\n",
    "plotnumber = 1\n",
    "\n",
    "for column in x[skew_fea]:\n",
    "    if plotnumber<=9:\n",
    "        ax = plt.subplot(3,3,plotnumber)\n",
    "        sns.distplot(x[column],color='r',kde_kws={\"shade\": True},hist=False)\n",
    "        plt.xlabel(column,fontsize=20)\n",
    "    plotnumber+=1"
   ]
  },
  {
   "cell_type": "markdown",
   "id": "942ccbb1",
   "metadata": {},
   "source": [
    "skewness is removed."
   ]
  },
  {
   "cell_type": "markdown",
   "id": "a3fa78cf",
   "metadata": {},
   "source": [
    "# Scaling the data using standard scaler"
   ]
  },
  {
   "cell_type": "code",
   "execution_count": 56,
   "id": "50f302b8",
   "metadata": {},
   "outputs": [],
   "source": [
    "ssc=StandardScaler()\n",
    "X = pd.DataFrame(ssc.fit_transform(x), columns=x.columns)"
   ]
  },
  {
   "cell_type": "markdown",
   "id": "ac6fb04b",
   "metadata": {},
   "source": [
    "# Using VIF to remove multicolinearity"
   ]
  },
  {
   "cell_type": "code",
   "execution_count": 57,
   "id": "8d896b0e",
   "metadata": {},
   "outputs": [
    {
     "data": {
      "text/html": [
       "<div>\n",
       "<style scoped>\n",
       "    .dataframe tbody tr th:only-of-type {\n",
       "        vertical-align: middle;\n",
       "    }\n",
       "\n",
       "    .dataframe tbody tr th {\n",
       "        vertical-align: top;\n",
       "    }\n",
       "\n",
       "    .dataframe thead th {\n",
       "        text-align: right;\n",
       "    }\n",
       "</style>\n",
       "<table border=\"1\" class=\"dataframe\">\n",
       "  <thead>\n",
       "    <tr style=\"text-align: right;\">\n",
       "      <th></th>\n",
       "      <th>vif_Features</th>\n",
       "      <th>Features</th>\n",
       "    </tr>\n",
       "  </thead>\n",
       "  <tbody>\n",
       "    <tr>\n",
       "      <th>0</th>\n",
       "      <td>1.309948</td>\n",
       "      <td>longitude</td>\n",
       "    </tr>\n",
       "    <tr>\n",
       "      <th>1</th>\n",
       "      <td>1.682645</td>\n",
       "      <td>primary_fuel</td>\n",
       "    </tr>\n",
       "    <tr>\n",
       "      <th>2</th>\n",
       "      <td>1.503721</td>\n",
       "      <td>source</td>\n",
       "    </tr>\n",
       "    <tr>\n",
       "      <th>3</th>\n",
       "      <td>1.875750</td>\n",
       "      <td>geolocation_source</td>\n",
       "    </tr>\n",
       "    <tr>\n",
       "      <th>4</th>\n",
       "      <td>3.603333</td>\n",
       "      <td>generation_gwh_2014</td>\n",
       "    </tr>\n",
       "    <tr>\n",
       "      <th>5</th>\n",
       "      <td>6.182235</td>\n",
       "      <td>generation_gwh_2015</td>\n",
       "    </tr>\n",
       "    <tr>\n",
       "      <th>6</th>\n",
       "      <td>9.957776</td>\n",
       "      <td>generation_gwh_2016</td>\n",
       "    </tr>\n",
       "    <tr>\n",
       "      <th>7</th>\n",
       "      <td>9.750143</td>\n",
       "      <td>generation_gwh_2017</td>\n",
       "    </tr>\n",
       "    <tr>\n",
       "      <th>8</th>\n",
       "      <td>8.951489</td>\n",
       "      <td>generation_gwh_2018</td>\n",
       "    </tr>\n",
       "    <tr>\n",
       "      <th>9</th>\n",
       "      <td>1.102659</td>\n",
       "      <td>Power_plant_age</td>\n",
       "    </tr>\n",
       "  </tbody>\n",
       "</table>\n",
       "</div>"
      ],
      "text/plain": [
       "   vif_Features             Features\n",
       "0      1.309948            longitude\n",
       "1      1.682645         primary_fuel\n",
       "2      1.503721               source\n",
       "3      1.875750   geolocation_source\n",
       "4      3.603333  generation_gwh_2014\n",
       "5      6.182235  generation_gwh_2015\n",
       "6      9.957776  generation_gwh_2016\n",
       "7      9.750143  generation_gwh_2017\n",
       "8      8.951489  generation_gwh_2018\n",
       "9      1.102659      Power_plant_age"
      ]
     },
     "execution_count": 57,
     "metadata": {},
     "output_type": "execute_result"
    }
   ],
   "source": [
    "vif=pd.DataFrame()\n",
    "vif[\"vif_Features\"]=[variance_inflation_factor(X.values, i) for i in range(X.shape[1])]\n",
    "vif[\"Features\"]=X.columns\n",
    "vif"
   ]
  },
  {
   "cell_type": "markdown",
   "id": "f9cc2bdd",
   "metadata": {},
   "source": [
    "Since all the VIF features are less than 10 so no need to remove any column.\n",
    "\n",
    "Now the multicolinearity issue is resolved."
   ]
  },
  {
   "cell_type": "markdown",
   "id": "82711384",
   "metadata": {},
   "source": [
    "# Finding Best Random State and Accuracy"
   ]
  },
  {
   "cell_type": "code",
   "execution_count": 58,
   "id": "661368c5",
   "metadata": {},
   "outputs": [
    {
     "name": "stdout",
     "output_type": "stream",
     "text": [
      "Best accuracy is  0.8730347699249845  on Random_state  671\n"
     ]
    }
   ],
   "source": [
    "maxAccu=0\n",
    "maxRS=0\n",
    "for i in range(1,851):\n",
    "    X_train,X_test,y_train,y_test = train_test_split(X,y,test_size=.30, random_state =i)\n",
    "    mod = RandomForestRegressor()\n",
    "    mod.fit(X_train, y_train)\n",
    "    pred = mod.predict(X_test)\n",
    "    acc=r2_score(y_test, pred)\n",
    "    if acc>maxAccu:\n",
    "        maxAccu=acc\n",
    "        maxRS=i\n",
    "print(\"Best accuracy is \",maxAccu,\" on Random_state \",maxRS)"
   ]
  },
  {
   "cell_type": "code",
   "execution_count": 59,
   "id": "febd26b5",
   "metadata": {},
   "outputs": [],
   "source": [
    "X_train,X_test,y_train,y_test=train_test_split(X,y,test_size=.30,random_state=maxRS)"
   ]
  },
  {
   "cell_type": "markdown",
   "id": "253fd57b",
   "metadata": {},
   "source": [
    "# i) DecisionTreeRegressor"
   ]
  },
  {
   "cell_type": "code",
   "execution_count": 60,
   "id": "79015e28",
   "metadata": {},
   "outputs": [
    {
     "name": "stdout",
     "output_type": "stream",
     "text": [
      "R2_score: 0.7185942298979117\n",
      "mean_squared_error: 52119.65901357813\n",
      "mean_absolute_error: 106.4957578125\n",
      "root_mean_squared_error: 228.29730399980227\n"
     ]
    }
   ],
   "source": [
    "DTR=DecisionTreeRegressor()\n",
    "DTR.fit(X_train,y_train)\n",
    "pred=DTR.predict(X_test)\n",
    "print('R2_score:',r2_score(y_test,pred))\n",
    "print('mean_squared_error:',metrics.mean_squared_error(y_test,pred))\n",
    "print('mean_absolute_error:',metrics.mean_absolute_error(y_test,pred))\n",
    "print('root_mean_squared_error:',np.sqrt(metrics.mean_squared_error(y_test,pred)))"
   ]
  },
  {
   "cell_type": "markdown",
   "id": "5ac37515",
   "metadata": {},
   "source": [
    "# ) RandomForestRegressor:"
   ]
  },
  {
   "cell_type": "code",
   "execution_count": 62,
   "id": "cabd2d97",
   "metadata": {},
   "outputs": [
    {
     "name": "stdout",
     "output_type": "stream",
     "text": [
      "R2_score: 0.8709900145397043\n",
      "mean_squared_error: 23894.16695008766\n",
      "mean_absolute_error: 79.55649103571056\n",
      "root_mean_squared_error: 154.57738175453633\n"
     ]
    }
   ],
   "source": [
    "# RFR=RandomForestRegressor()\n",
    "RFR.fit(X_train,y_train)\n",
    "pred=RFR.predict(X_test)\n",
    "print('R2_score:',r2_score(y_test,pred))\n",
    "print('mean_squared_error:',metrics.mean_squared_error(y_test,pred))\n",
    "print('mean_absolute_error:',metrics.mean_absolute_error(y_test,pred))\n",
    "print('root_mean_squared_error:',np.sqrt(metrics.mean_squared_error(y_test,pred)))"
   ]
  },
  {
   "cell_type": "markdown",
   "id": "3a88ddd6",
   "metadata": {},
   "source": [
    "# iii) Gradient Boosting:"
   ]
  },
  {
   "cell_type": "code",
   "execution_count": 63,
   "id": "117752fe",
   "metadata": {},
   "outputs": [
    {
     "name": "stdout",
     "output_type": "stream",
     "text": [
      "R2_score: 0.8656991700904031\n",
      "mean_squared_error: 24874.093582336245\n",
      "mean_absolute_error: 82.03067295294281\n",
      "root_mean_squared_error: 157.7152293925233\n"
     ]
    }
   ],
   "source": [
    "GBR=GradientBoostingRegressor()\n",
    "GBR.fit(X_train,y_train)\n",
    "pred=GBR.predict(X_test)\n",
    "print('R2_score:',r2_score(y_test,pred))\n",
    "print('mean_squared_error:',metrics.mean_squared_error(y_test,pred))\n",
    "print('mean_absolute_error:',metrics.mean_absolute_error(y_test,pred))\n",
    "print('root_mean_squared_error:',np.sqrt(metrics.mean_squared_error(y_test,pred)))"
   ]
  },
  {
   "cell_type": "markdown",
   "id": "519524bd",
   "metadata": {},
   "source": [
    "# iv) KNN"
   ]
  },
  {
   "cell_type": "code",
   "execution_count": 64,
   "id": "21cba748",
   "metadata": {},
   "outputs": [
    {
     "name": "stdout",
     "output_type": "stream",
     "text": [
      "R2_score: 0.8406820154824659\n",
      "mean_squared_error: 29507.564911593752\n",
      "mean_absolute_error: 85.314953125\n",
      "root_mean_squared_error: 171.77766127059058\n"
     ]
    }
   ],
   "source": [
    "knn=KNN()\n",
    "knn.fit(X_train,y_train)\n",
    "pred=knn.predict(X_test)\n",
    "print('R2_score:',r2_score(y_test,pred))\n",
    "print('mean_squared_error:',metrics.mean_squared_error(y_test,pred))\n",
    "print('mean_absolute_error:',metrics.mean_absolute_error(y_test,pred))\n",
    "print('root_mean_squared_error:',np.sqrt(metrics.mean_squared_error(y_test,pred)))"
   ]
  },
  {
   "cell_type": "markdown",
   "id": "5d5befea",
   "metadata": {},
   "source": [
    "# Cross validation score"
   ]
  },
  {
   "cell_type": "code",
   "execution_count": 65,
   "id": "caa2eba8",
   "metadata": {},
   "outputs": [
    {
     "name": "stdout",
     "output_type": "stream",
     "text": [
      "cross validation score of DecisionTreeRegressor model =  0.6033037672777685\n",
      "cross validation score of RandomForestRegressor model =  0.7796446339433702\n",
      "cross validation score of Gradient Boosting model =  0.7507356761412382\n",
      "cross validation score of KNN model =  0.7246075187248919\n"
     ]
    }
   ],
   "source": [
    "#cross validation to check the accuracy score\n",
    "print('cross validation score of DecisionTreeRegressor model = ', cross_val_score(DTR,X,y,cv=5).mean())\n",
    "print('cross validation score of RandomForestRegressor model = ', cross_val_score(RFR,X,y,cv=5).mean())\n",
    "print('cross validation score of Gradient Boosting model = ', cross_val_score(GBR,X,y,cv=5).mean())\n",
    "print('cross validation score of KNN model = ', cross_val_score(knn,X,y,cv=5).mean())"
   ]
  },
  {
   "cell_type": "markdown",
   "id": "c90dc712",
   "metadata": {},
   "source": [
    "Above are the cross validation scores of DTR, RFR, GBR and KNN.\n",
    "\n",
    "And the difference between model r2_score and cross validation score is less for RandomForestRegressor so RFR is my best model and i have to tune it using RFR parameters."
   ]
  },
  {
   "cell_type": "markdown",
   "id": "cd9c4d9f",
   "metadata": {},
   "source": [
    "# Hyper parameter tuning"
   ]
  },
  {
   "cell_type": "code",
   "execution_count": 66,
   "id": "85a7706d",
   "metadata": {},
   "outputs": [],
   "source": [
    "#importing necessary libraries\n",
    "from sklearn.model_selection import GridSearchCV"
   ]
  },
  {
   "cell_type": "code",
   "execution_count": 76,
   "id": "cb365950",
   "metadata": {},
   "outputs": [],
   "source": [
    "parameter = {'criterion': ['mse','friedman_mse'],\n",
    "            'n_estimators':[100,200,300,400],\n",
    "            'max_depth': [5,6,7,8],\n",
    "            'max_features':['auto','sqrt','log2'],\n",
    "            'bootstrap': [True, False]}"
   ]
  },
  {
   "cell_type": "code",
   "execution_count": 77,
   "id": "9758ddfd",
   "metadata": {},
   "outputs": [],
   "source": [
    "GCV=GridSearchCV(RandomForestRegressor(),parameter,cv=5)"
   ]
  },
  {
   "cell_type": "code",
   "execution_count": 78,
   "id": "6eb7b256",
   "metadata": {},
   "outputs": [],
   "source": [
    "from sklearn.metrics import accuracy_score\n",
    "from sklearn.model_selection import GridSearchCV"
   ]
  },
  {
   "cell_type": "code",
   "execution_count": 79,
   "id": "8dda643d",
   "metadata": {},
   "outputs": [
    {
     "data": {
      "text/html": [
       "<style>#sk-container-id-1 {color: black;background-color: white;}#sk-container-id-1 pre{padding: 0;}#sk-container-id-1 div.sk-toggleable {background-color: white;}#sk-container-id-1 label.sk-toggleable__label {cursor: pointer;display: block;width: 100%;margin-bottom: 0;padding: 0.3em;box-sizing: border-box;text-align: center;}#sk-container-id-1 label.sk-toggleable__label-arrow:before {content: \"▸\";float: left;margin-right: 0.25em;color: #696969;}#sk-container-id-1 label.sk-toggleable__label-arrow:hover:before {color: black;}#sk-container-id-1 div.sk-estimator:hover label.sk-toggleable__label-arrow:before {color: black;}#sk-container-id-1 div.sk-toggleable__content {max-height: 0;max-width: 0;overflow: hidden;text-align: left;background-color: #f0f8ff;}#sk-container-id-1 div.sk-toggleable__content pre {margin: 0.2em;color: black;border-radius: 0.25em;background-color: #f0f8ff;}#sk-container-id-1 input.sk-toggleable__control:checked~div.sk-toggleable__content {max-height: 200px;max-width: 100%;overflow: auto;}#sk-container-id-1 input.sk-toggleable__control:checked~label.sk-toggleable__label-arrow:before {content: \"▾\";}#sk-container-id-1 div.sk-estimator input.sk-toggleable__control:checked~label.sk-toggleable__label {background-color: #d4ebff;}#sk-container-id-1 div.sk-label input.sk-toggleable__control:checked~label.sk-toggleable__label {background-color: #d4ebff;}#sk-container-id-1 input.sk-hidden--visually {border: 0;clip: rect(1px 1px 1px 1px);clip: rect(1px, 1px, 1px, 1px);height: 1px;margin: -1px;overflow: hidden;padding: 0;position: absolute;width: 1px;}#sk-container-id-1 div.sk-estimator {font-family: monospace;background-color: #f0f8ff;border: 1px dotted black;border-radius: 0.25em;box-sizing: border-box;margin-bottom: 0.5em;}#sk-container-id-1 div.sk-estimator:hover {background-color: #d4ebff;}#sk-container-id-1 div.sk-parallel-item::after {content: \"\";width: 100%;border-bottom: 1px solid gray;flex-grow: 1;}#sk-container-id-1 div.sk-label:hover label.sk-toggleable__label {background-color: #d4ebff;}#sk-container-id-1 div.sk-serial::before {content: \"\";position: absolute;border-left: 1px solid gray;box-sizing: border-box;top: 0;bottom: 0;left: 50%;z-index: 0;}#sk-container-id-1 div.sk-serial {display: flex;flex-direction: column;align-items: center;background-color: white;padding-right: 0.2em;padding-left: 0.2em;position: relative;}#sk-container-id-1 div.sk-item {position: relative;z-index: 1;}#sk-container-id-1 div.sk-parallel {display: flex;align-items: stretch;justify-content: center;background-color: white;position: relative;}#sk-container-id-1 div.sk-item::before, #sk-container-id-1 div.sk-parallel-item::before {content: \"\";position: absolute;border-left: 1px solid gray;box-sizing: border-box;top: 0;bottom: 0;left: 50%;z-index: -1;}#sk-container-id-1 div.sk-parallel-item {display: flex;flex-direction: column;z-index: 1;position: relative;background-color: white;}#sk-container-id-1 div.sk-parallel-item:first-child::after {align-self: flex-end;width: 50%;}#sk-container-id-1 div.sk-parallel-item:last-child::after {align-self: flex-start;width: 50%;}#sk-container-id-1 div.sk-parallel-item:only-child::after {width: 0;}#sk-container-id-1 div.sk-dashed-wrapped {border: 1px dashed gray;margin: 0 0.4em 0.5em 0.4em;box-sizing: border-box;padding-bottom: 0.4em;background-color: white;}#sk-container-id-1 div.sk-label label {font-family: monospace;font-weight: bold;display: inline-block;line-height: 1.2em;}#sk-container-id-1 div.sk-label-container {text-align: center;}#sk-container-id-1 div.sk-container {/* jupyter's `normalize.less` sets `[hidden] { display: none; }` but bootstrap.min.css set `[hidden] { display: none !important; }` so we also need the `!important` here to be able to override the default hidden behavior on the sphinx rendered scikit-learn.org. See: https://github.com/scikit-learn/scikit-learn/issues/21755 */display: inline-block !important;position: relative;}#sk-container-id-1 div.sk-text-repr-fallback {display: none;}</style><div id=\"sk-container-id-1\" class=\"sk-top-container\"><div class=\"sk-text-repr-fallback\"><pre>GridSearchCV(cv=5, estimator=RandomForestRegressor(),\n",
       "             param_grid={&#x27;bootstrap&#x27;: [True, False],\n",
       "                         &#x27;criterion&#x27;: [&#x27;mse&#x27;, &#x27;friedman_mse&#x27;],\n",
       "                         &#x27;max_depth&#x27;: [5, 6, 7, 8],\n",
       "                         &#x27;max_features&#x27;: [&#x27;auto&#x27;, &#x27;sqrt&#x27;, &#x27;log2&#x27;],\n",
       "                         &#x27;n_estimators&#x27;: [100, 200, 300, 400]})</pre><b>In a Jupyter environment, please rerun this cell to show the HTML representation or trust the notebook. <br />On GitHub, the HTML representation is unable to render, please try loading this page with nbviewer.org.</b></div><div class=\"sk-container\" hidden><div class=\"sk-item sk-dashed-wrapped\"><div class=\"sk-label-container\"><div class=\"sk-label sk-toggleable\"><input class=\"sk-toggleable__control sk-hidden--visually\" id=\"sk-estimator-id-1\" type=\"checkbox\" ><label for=\"sk-estimator-id-1\" class=\"sk-toggleable__label sk-toggleable__label-arrow\">GridSearchCV</label><div class=\"sk-toggleable__content\"><pre>GridSearchCV(cv=5, estimator=RandomForestRegressor(),\n",
       "             param_grid={&#x27;bootstrap&#x27;: [True, False],\n",
       "                         &#x27;criterion&#x27;: [&#x27;mse&#x27;, &#x27;friedman_mse&#x27;],\n",
       "                         &#x27;max_depth&#x27;: [5, 6, 7, 8],\n",
       "                         &#x27;max_features&#x27;: [&#x27;auto&#x27;, &#x27;sqrt&#x27;, &#x27;log2&#x27;],\n",
       "                         &#x27;n_estimators&#x27;: [100, 200, 300, 400]})</pre></div></div></div><div class=\"sk-parallel\"><div class=\"sk-parallel-item\"><div class=\"sk-item\"><div class=\"sk-label-container\"><div class=\"sk-label sk-toggleable\"><input class=\"sk-toggleable__control sk-hidden--visually\" id=\"sk-estimator-id-2\" type=\"checkbox\" ><label for=\"sk-estimator-id-2\" class=\"sk-toggleable__label sk-toggleable__label-arrow\">estimator: RandomForestRegressor</label><div class=\"sk-toggleable__content\"><pre>RandomForestRegressor()</pre></div></div></div><div class=\"sk-serial\"><div class=\"sk-item\"><div class=\"sk-estimator sk-toggleable\"><input class=\"sk-toggleable__control sk-hidden--visually\" id=\"sk-estimator-id-3\" type=\"checkbox\" ><label for=\"sk-estimator-id-3\" class=\"sk-toggleable__label sk-toggleable__label-arrow\">RandomForestRegressor</label><div class=\"sk-toggleable__content\"><pre>RandomForestRegressor()</pre></div></div></div></div></div></div></div></div></div></div>"
      ],
      "text/plain": [
       "GridSearchCV(cv=5, estimator=RandomForestRegressor(),\n",
       "             param_grid={'bootstrap': [True, False],\n",
       "                         'criterion': ['mse', 'friedman_mse'],\n",
       "                         'max_depth': [5, 6, 7, 8],\n",
       "                         'max_features': ['auto', 'sqrt', 'log2'],\n",
       "                         'n_estimators': [100, 200, 300, 400]})"
      ]
     },
     "execution_count": 79,
     "metadata": {},
     "output_type": "execute_result"
    }
   ],
   "source": [
    "GCV.fit(X_train,y_train)"
   ]
  },
  {
   "cell_type": "code",
   "execution_count": 81,
   "id": "6faed5ff",
   "metadata": {},
   "outputs": [
    {
     "name": "stdout",
     "output_type": "stream",
     "text": [
      "R2_Score: 87.17953300143095\n",
      "mean_squared_error: 23745.013050650712\n",
      "mean_absolute_error: 80.00489673883982\n",
      "RMSE value: 154.09416942457852\n"
     ]
    }
   ],
   "source": [
    "Final_mod=RandomForestRegressor(bootstrap=True,criterion='friedman_mse',max_depth=8,max_features='log2',n_estimators=400,)\n",
    "Final_mod.fit(X_train,y_train)\n",
    "pred=Final_mod.predict(X_test)\n",
    "print('R2_Score:',r2_score(y_test,pred)*100)\n",
    "print('mean_squared_error:',metrics.mean_squared_error(y_test,pred))\n",
    "print('mean_absolute_error:',metrics.mean_absolute_error(y_test,pred))\n",
    "print(\"RMSE value:\",np.sqrt(metrics.mean_squared_error(y_test, pred)))"
   ]
  },
  {
   "cell_type": "markdown",
   "id": "7205b683",
   "metadata": {},
   "source": [
    " RandomForestRegressor gives 87.37% as r2_score which is good to save the model.\n"
   ]
  },
  {
   "cell_type": "markdown",
   "id": "577d0208",
   "metadata": {},
   "source": [
    "# Saving the model"
   ]
  },
  {
   "cell_type": "code",
   "execution_count": 82,
   "id": "32930203",
   "metadata": {},
   "outputs": [
    {
     "data": {
      "text/plain": [
       "['Capacity_MW.pkl']"
      ]
     },
     "execution_count": 82,
     "metadata": {},
     "output_type": "execute_result"
    }
   ],
   "source": [
    "# Saving the model using .pkl\n",
    "import joblib\n",
    "joblib.dump(Final_mod,\"Capacity_MW.pkl\")"
   ]
  },
  {
   "cell_type": "markdown",
   "id": "53d847c7",
   "metadata": {},
   "source": [
    "# ii) Model building for Fuel_type:\n",
    "    \n",
    "    \n",
    "Target as primary_fuel - classification model"
   ]
  },
  {
   "cell_type": "markdown",
   "id": "2e452e1f",
   "metadata": {},
   "source": [
    "# Separating features and label"
   ]
  },
  {
   "cell_type": "code",
   "execution_count": 83,
   "id": "5f93587f",
   "metadata": {},
   "outputs": [],
   "source": [
    "x_1 = df_new.drop(\"primary_fuel\",axis=1)\n",
    "y_1 = df_new[\"primary_fuel\"]"
   ]
  },
  {
   "cell_type": "markdown",
   "id": "d8274a27",
   "metadata": {},
   "source": [
    "Checking for skewness"
   ]
  },
  {
   "cell_type": "code",
   "execution_count": 84,
   "id": "cda10f3e",
   "metadata": {},
   "outputs": [
    {
     "data": {
      "text/plain": [
       "capacity_mw            2.170245\n",
       "longitude              0.945877\n",
       "source                 1.734252\n",
       "geolocation_source    -2.066536\n",
       "generation_gwh_2014    2.943026\n",
       "generation_gwh_2015    2.714999\n",
       "generation_gwh_2016    2.645786\n",
       "generation_gwh_2017    2.546541\n",
       "generation_gwh_2018    2.597029\n",
       "Power_plant_age        1.280800\n",
       "dtype: float64"
      ]
     },
     "execution_count": 84,
     "metadata": {},
     "output_type": "execute_result"
    }
   ],
   "source": [
    "#to Check for skewness\n",
    "x_1.skew()"
   ]
  },
  {
   "cell_type": "markdown",
   "id": "fa0ae80a",
   "metadata": {},
   "source": [
    "There is skewness in all column. geolocation_source and source are categorical columns so no need to remove skewness."
   ]
  },
  {
   "cell_type": "markdown",
   "id": "bec74d85",
   "metadata": {},
   "source": [
    "# Removing skewness "
   ]
  },
  {
   "cell_type": "code",
   "execution_count": 87,
   "id": "584e554c",
   "metadata": {},
   "outputs": [],
   "source": [
    "\n",
    "#list of skewed features\n",
    "skew_feat=['capacity_mw','longitude','generation_gwh_2014','generation_gwh_2015','generation_gwh_2016','generation_gwh_2017','generation_gwh_2018','Power_plant_age']"
   ]
  },
  {
   "cell_type": "markdown",
   "id": "de4cd53f",
   "metadata": {},
   "source": [
    "Taking all the columns with skewness as a list with variable skew_feat."
   ]
  },
  {
   "cell_type": "code",
   "execution_count": 88,
   "id": "de3c57b5",
   "metadata": {},
   "outputs": [
    {
     "data": {
      "text/plain": [
       "\"\\nparameters:\\nmethod = 'box_cox' or 'yeo-johnson'\\n\""
      ]
     },
     "execution_count": 88,
     "metadata": {},
     "output_type": "execute_result"
    }
   ],
   "source": [
    "from sklearn.preprocessing import PowerTransformer\n",
    "scaler = PowerTransformer(method='yeo-johnson')\n",
    "'''\n",
    "parameters:\n",
    "method = 'box_cox' or 'yeo-johnson'\n",
    "'''"
   ]
  },
  {
   "cell_type": "code",
   "execution_count": 89,
   "id": "0fd02d3d",
   "metadata": {},
   "outputs": [],
   "source": [
    "#Removing skewness using yeo-johnson\n",
    "x_1[skew_feat] = scaler.fit_transform(x_1[skew_feat].values)"
   ]
  },
  {
   "cell_type": "code",
   "execution_count": 90,
   "id": "58921eb7",
   "metadata": {},
   "outputs": [
    {
     "data": {
      "text/plain": [
       "capacity_mw            0.016303\n",
       "longitude             -0.000128\n",
       "generation_gwh_2014    0.232399\n",
       "generation_gwh_2015    0.163587\n",
       "generation_gwh_2016    0.147035\n",
       "generation_gwh_2017    0.127152\n",
       "generation_gwh_2018    0.133691\n",
       "Power_plant_age        0.043734\n",
       "dtype: float64"
      ]
     },
     "execution_count": 90,
     "metadata": {},
     "output_type": "execute_result"
    }
   ],
   "source": [
    "# to check skewness after removing skewness\n",
    "x_1[skew_feat].skew()"
   ]
  },
  {
   "cell_type": "code",
   "execution_count": 91,
   "id": "5fe94037",
   "metadata": {},
   "outputs": [
    {
     "data": {
      "image/png": "[encoded data removed]",
      "text/plain": [
       "<Figure size 720x1080 with 8 Axes>"
      ]
     },
     "metadata": {},
     "output_type": "display_data"
    }
   ],
   "source": [
    "# After removing skewness let's check how the data has been distributed in each column.\n",
    "\n",
    "plt.figure(figsize=(10,15), facecolor='white')\n",
    "plotnumber = 1\n",
    "\n",
    "for column in x_1[skew_feat]:\n",
    "    if plotnumber<=9:\n",
    "        ax = plt.subplot(3,3,plotnumber)\n",
    "        sns.distplot(x_1[column],color='g',kde_kws={\"shade\": True},hist=False)\n",
    "        plt.xlabel(column,fontsize=20)\n",
    "    plotnumber+=1\n",
    "plt.show()"
   ]
  },
  {
   "cell_type": "markdown",
   "id": "ee9256af",
   "metadata": {},
   "source": [
    "skewness is completly removed.\n",
    "\n"
   ]
  },
  {
   "cell_type": "code",
   "execution_count": 92,
   "id": "c37e864a",
   "metadata": {},
   "outputs": [],
   "source": [
    "# scaling data using standard scalers\n",
    "from sklearn.preprocessing import StandardScaler\n",
    "scaler=StandardScaler()\n",
    "X_1 = pd.DataFrame(scaler.fit_transform(x_1), columns=x_1.columns)"
   ]
  },
  {
   "cell_type": "markdown",
   "id": "7a203084",
   "metadata": {},
   "source": [
    "# Using VIF to remove multicolinearity"
   ]
  },
  {
   "cell_type": "code",
   "execution_count": 93,
   "id": "2313329c",
   "metadata": {},
   "outputs": [
    {
     "data": {
      "text/html": [
       "<div>\n",
       "<style scoped>\n",
       "    .dataframe tbody tr th:only-of-type {\n",
       "        vertical-align: middle;\n",
       "    }\n",
       "\n",
       "    .dataframe tbody tr th {\n",
       "        vertical-align: top;\n",
       "    }\n",
       "\n",
       "    .dataframe thead th {\n",
       "        text-align: right;\n",
       "    }\n",
       "</style>\n",
       "<table border=\"1\" class=\"dataframe\">\n",
       "  <thead>\n",
       "    <tr style=\"text-align: right;\">\n",
       "      <th></th>\n",
       "      <th>vif_Features</th>\n",
       "      <th>Features</th>\n",
       "    </tr>\n",
       "  </thead>\n",
       "  <tbody>\n",
       "    <tr>\n",
       "      <th>0</th>\n",
       "      <td>1.811775</td>\n",
       "      <td>capacity_mw</td>\n",
       "    </tr>\n",
       "    <tr>\n",
       "      <th>1</th>\n",
       "      <td>1.193670</td>\n",
       "      <td>longitude</td>\n",
       "    </tr>\n",
       "    <tr>\n",
       "      <th>2</th>\n",
       "      <td>1.413037</td>\n",
       "      <td>source</td>\n",
       "    </tr>\n",
       "    <tr>\n",
       "      <th>3</th>\n",
       "      <td>1.590869</td>\n",
       "      <td>geolocation_source</td>\n",
       "    </tr>\n",
       "    <tr>\n",
       "      <th>4</th>\n",
       "      <td>3.621608</td>\n",
       "      <td>generation_gwh_2014</td>\n",
       "    </tr>\n",
       "    <tr>\n",
       "      <th>5</th>\n",
       "      <td>6.190754</td>\n",
       "      <td>generation_gwh_2015</td>\n",
       "    </tr>\n",
       "    <tr>\n",
       "      <th>6</th>\n",
       "      <td>9.961303</td>\n",
       "      <td>generation_gwh_2016</td>\n",
       "    </tr>\n",
       "    <tr>\n",
       "      <th>7</th>\n",
       "      <td>9.767170</td>\n",
       "      <td>generation_gwh_2017</td>\n",
       "    </tr>\n",
       "    <tr>\n",
       "      <th>8</th>\n",
       "      <td>8.961146</td>\n",
       "      <td>generation_gwh_2018</td>\n",
       "    </tr>\n",
       "    <tr>\n",
       "      <th>9</th>\n",
       "      <td>1.153813</td>\n",
       "      <td>Power_plant_age</td>\n",
       "    </tr>\n",
       "  </tbody>\n",
       "</table>\n",
       "</div>"
      ],
      "text/plain": [
       "   vif_Features             Features\n",
       "0      1.811775          capacity_mw\n",
       "1      1.193670            longitude\n",
       "2      1.413037               source\n",
       "3      1.590869   geolocation_source\n",
       "4      3.621608  generation_gwh_2014\n",
       "5      6.190754  generation_gwh_2015\n",
       "6      9.961303  generation_gwh_2016\n",
       "7      9.767170  generation_gwh_2017\n",
       "8      8.961146  generation_gwh_2018\n",
       "9      1.153813      Power_plant_age"
      ]
     },
     "execution_count": 93,
     "metadata": {},
     "output_type": "execute_result"
    }
   ],
   "source": [
    "from statsmodels.stats.outliers_influence import variance_inflation_factor\n",
    "vif=pd.DataFrame()\n",
    "vif[\"vif_Features\"]=[variance_inflation_factor(X_1.values, i) for i in range(X_1.shape[1])]\n",
    "vif[\"Features\"]=X_1.columns\n",
    "vif"
   ]
  },
  {
   "cell_type": "markdown",
   "id": "c3bc3ef5",
   "metadata": {},
   "source": [
    "As all the VIF features are less than 10 so no need to remove any column.\n",
    "\n",
    "Now the multicolinearity issue is resolved."
   ]
  },
  {
   "cell_type": "markdown",
   "id": "6db8e6e4",
   "metadata": {},
   "source": [
    "# Balancing the target variable using oversampling"
   ]
  },
  {
   "cell_type": "code",
   "execution_count": 94,
   "id": "7bb23355",
   "metadata": {},
   "outputs": [
    {
     "data": {
      "text/plain": [
       "1    238\n",
       "3    220\n",
       "6    126\n",
       "7    123\n",
       "2     65\n",
       "0     50\n",
       "5     20\n",
       "4      9\n",
       "Name: primary_fuel, dtype: int64"
      ]
     },
     "execution_count": 94,
     "metadata": {},
     "output_type": "execute_result"
    }
   ],
   "source": [
    "y_1.value_counts()"
   ]
  },
  {
   "cell_type": "code",
   "execution_count": 95,
   "id": "08e006e8",
   "metadata": {},
   "outputs": [],
   "source": [
    "from imblearn.over_sampling import SMOTE\n",
    "SM = SMOTE()\n",
    "X_1, y_1 = SM.fit_resample(X_1,y_1)"
   ]
  },
  {
   "cell_type": "code",
   "execution_count": 96,
   "id": "91b31f21",
   "metadata": {},
   "outputs": [
    {
     "data": {
      "text/plain": [
       "6    238\n",
       "1    238\n",
       "7    238\n",
       "2    238\n",
       "3    238\n",
       "0    238\n",
       "5    238\n",
       "4    238\n",
       "Name: primary_fuel, dtype: int64"
      ]
     },
     "execution_count": 96,
     "metadata": {},
     "output_type": "execute_result"
    }
   ],
   "source": [
    "# Checking the value counts again\n",
    "y_1.value_counts()"
   ]
  },
  {
   "cell_type": "code",
   "execution_count": 97,
   "id": "f1323ab0",
   "metadata": {},
   "outputs": [
    {
     "data": {
      "text/plain": [
       "<AxesSubplot:xlabel='primary_fuel', ylabel='count'>"
      ]
     },
     "execution_count": 97,
     "metadata": {},
     "output_type": "execute_result"
    },
    {
     "data": {
      "image/png": "[encoded data removed]",
      "text/plain": [
       "<Figure size 432x288 with 1 Axes>"
      ]
     },
     "metadata": {
      "needs_background": "light"
     },
     "output_type": "display_data"
    }
   ],
   "source": [
    "# Visualizing the data after oversampling\n",
    "sns.countplot(y_1)"
   ]
  },
  {
   "cell_type": "markdown",
   "id": "2ab651b0",
   "metadata": {},
   "source": [
    "Now the target column is balanced."
   ]
  },
  {
   "cell_type": "markdown",
   "id": "dbb5771b",
   "metadata": {},
   "source": [
    "# Finding Best Random State and Accuracy"
   ]
  },
  {
   "cell_type": "code",
   "execution_count": 98,
   "id": "c51c9b2f",
   "metadata": {},
   "outputs": [],
   "source": [
    "#importing necessary libraries\n",
    "from sklearn.metrics import accuracy_score\n",
    "from sklearn.metrics import r2_score\n",
    "from sklearn.model_selection import train_test_split"
   ]
  },
  {
   "cell_type": "code",
   "execution_count": 99,
   "id": "10ecf5c2",
   "metadata": {},
   "outputs": [
    {
     "name": "stdout",
     "output_type": "stream",
     "text": [
      "Best accuracy is  0.8986013986013986  on Random_state  161\n"
     ]
    }
   ],
   "source": [
    "from sklearn.tree  import DecisionTreeClassifier\n",
    "maxAccu=0\n",
    "maxRS=0\n",
    "for i in range(1,200):\n",
    "    x_train,x_test,y_train,y_test = train_test_split(X_1,y_1,test_size=.30, random_state =i)\n",
    "    mod = DecisionTreeClassifier()\n",
    "    mod.fit(x_train, y_train)\n",
    "    pred = mod.predict(x_test)\n",
    "    acc=accuracy_score(y_test, pred)\n",
    "    if acc>maxAccu:\n",
    "        maxAccu=acc\n",
    "        maxRS=i\n",
    "print(\"Best accuracy is \",maxAccu,\" on Random_state \",maxRS)"
   ]
  },
  {
   "cell_type": "code",
   "execution_count": 100,
   "id": "01f2eb78",
   "metadata": {},
   "outputs": [],
   "source": [
    "x_train,x_test,y_train,y_test=train_test_split(X_1,y_1,test_size=.30,random_state=maxRS)"
   ]
  },
  {
   "cell_type": "markdown",
   "id": "dc5a87bc",
   "metadata": {},
   "source": [
    "Created train and test data.\n",
    "\n",
    "Classification Algorithms:"
   ]
  },
  {
   "cell_type": "code",
   "execution_count": 101,
   "id": "ab5678ec",
   "metadata": {},
   "outputs": [],
   "source": [
    "from sklearn.tree import DecisionTreeClassifier\n",
    "from sklearn.ensemble import RandomForestClassifier\n",
    "from sklearn.svm import SVC\n",
    "from sklearn.linear_model import LogisticRegression\n",
    "from sklearn.metrics import classification_report\n",
    "from sklearn.ensemble import GradientBoostingClassifier\n",
    "from sklearn.neighbors import KNeighborsClassifier as KNN\n",
    "from sklearn.naive_bayes import GaussianNB as NB\n",
    "from sklearn.metrics import classification_report, confusion_matrix, roc_curve, roc_auc_score, accuracy_score"
   ]
  },
  {
   "cell_type": "markdown",
   "id": "4dcf11e2",
   "metadata": {},
   "source": [
    "# i) DecisionTreeClassifier"
   ]
  },
  {
   "cell_type": "code",
   "execution_count": 102,
   "id": "f8aa4783",
   "metadata": {},
   "outputs": [
    {
     "name": "stdout",
     "output_type": "stream",
     "text": [
      "Accuracy Score: 0.8933566433566433\n",
      "Confusion Matrix: [[67  2  2  0  0  0  0  0]\n",
      " [ 1 49 11  2  1  1  0  0]\n",
      " [ 2  3 64  8  0  1  0  0]\n",
      " [ 0  7  7 56  3  0  0  0]\n",
      " [ 0  1  0  1 66  0  0  0]\n",
      " [ 1  2  5  0  0 68  0  0]\n",
      " [ 0  0  0  0  0  0 57  0]\n",
      " [ 0  0  0  0  0  0  0 84]]\n",
      "              precision    recall  f1-score   support\n",
      "\n",
      "           0       0.94      0.94      0.94        71\n",
      "           1       0.77      0.75      0.76        65\n",
      "           2       0.72      0.82      0.77        78\n",
      "           3       0.84      0.77      0.80        73\n",
      "           4       0.94      0.97      0.96        68\n",
      "           5       0.97      0.89      0.93        76\n",
      "           6       1.00      1.00      1.00        57\n",
      "           7       1.00      1.00      1.00        84\n",
      "\n",
      "    accuracy                           0.89       572\n",
      "   macro avg       0.90      0.89      0.89       572\n",
      "weighted avg       0.90      0.89      0.89       572\n",
      "\n"
     ]
    }
   ],
   "source": [
    "DTC=DecisionTreeClassifier()\n",
    "DTC.fit(x_train,y_train)\n",
    "preddt=DTC.predict(x_test)\n",
    "print('Accuracy Score:',accuracy_score(y_test, preddt))\n",
    "print('Confusion Matrix:',confusion_matrix(y_test, preddt))\n",
    "print(classification_report(y_test,preddt))"
   ]
  },
  {
   "cell_type": "code",
   "execution_count": 103,
   "id": "eccf9b03",
   "metadata": {},
   "outputs": [
    {
     "data": {
      "image/png": "[encoded data removed]",
      "text/plain": [
       "<Figure size 504x504 with 2 Axes>"
      ]
     },
     "metadata": {
      "needs_background": "light"
     },
     "output_type": "display_data"
    }
   ],
   "source": [
    "cm = confusion_matrix(y_test, preddt)\n",
    "\n",
    "x_axis_labels = [\"Biomass\",\"Coal\",\"Gas\",\"Hydro\",\"Nuclear\",\"Oil\",\"Solar\",\"Wind\"]\n",
    "y_axis_labels = [\"Biomass\",\"Coal\",\"Gas\",\"Hydro\",\"Nuclear\",\"Oil\",\"Solar\",\"Wind\"]\n",
    "\n",
    "f, ax = plt.subplots(figsize =(7,7))\n",
    "sns.heatmap(cm, annot = True, linewidths=0.2, linecolor=\"black\", fmt = \".0f\", ax=ax, cmap=\"Purples\", xticklabels=x_axis_labels, yticklabels=y_axis_labels)\n",
    "plt.xlabel(\"PREDICTED LABEL\")\n",
    "plt.ylabel(\"TRUE LABEL\")\n",
    "plt.title('Confusion Matrix for Decision Tree Classifier')\n",
    "plt.show()"
   ]
  },
  {
   "cell_type": "markdown",
   "id": "05516f30",
   "metadata": {},
   "source": [
    "We can see the true values and predicted values in Decision Tree Classifier model using confusion matrix"
   ]
  },
  {
   "cell_type": "markdown",
   "id": "ee741d3f",
   "metadata": {},
   "source": [
    "# i) RandomForestClassifier"
   ]
  },
  {
   "cell_type": "code",
   "execution_count": 104,
   "id": "00f5c161",
   "metadata": {},
   "outputs": [
    {
     "name": "stdout",
     "output_type": "stream",
     "text": [
      "Accuracy Score: 0.9055944055944056\n",
      "Confusion Matrix: [[67  4  0  0  0  0  0  0]\n",
      " [ 2 48  9  4  2  0  0  0]\n",
      " [ 2  2 67  4  0  3  0  0]\n",
      " [ 0  6  8 55  4  0  0  0]\n",
      " [ 0  0  0  0 68  0  0  0]\n",
      " [ 0  2  2  0  0 72  0  0]\n",
      " [ 0  0  0  0  0  0 57  0]\n",
      " [ 0  0  0  0  0  0  0 84]]\n",
      "              precision    recall  f1-score   support\n",
      "\n",
      "           0       0.94      0.94      0.94        71\n",
      "           1       0.77      0.74      0.76        65\n",
      "           2       0.78      0.86      0.82        78\n",
      "           3       0.87      0.75      0.81        73\n",
      "           4       0.92      1.00      0.96        68\n",
      "           5       0.96      0.95      0.95        76\n",
      "           6       1.00      1.00      1.00        57\n",
      "           7       1.00      1.00      1.00        84\n",
      "\n",
      "    accuracy                           0.91       572\n",
      "   macro avg       0.91      0.91      0.90       572\n",
      "weighted avg       0.91      0.91      0.90       572\n",
      "\n"
     ]
    }
   ],
   "source": [
    "RFC=RandomForestClassifier()\n",
    "RFC.fit(x_train,y_train)\n",
    "predrf=RFC.predict(x_test)\n",
    "print('Accuracy Score:',accuracy_score(y_test, predrf))\n",
    "print('Confusion Matrix:',confusion_matrix(y_test, predrf))\n",
    "print(classification_report(y_test,predrf))"
   ]
  },
  {
   "cell_type": "code",
   "execution_count": 105,
   "id": "0f4725a0",
   "metadata": {},
   "outputs": [
    {
     "data": {
      "image/png": "[encoded data removed]",
      "text/plain": [
       "<Figure size 504x504 with 2 Axes>"
      ]
     },
     "metadata": {
      "needs_background": "light"
     },
     "output_type": "display_data"
    }
   ],
   "source": [
    "cm = confusion_matrix(y_test, predrf)\n",
    "\n",
    "x_axis_labels = [\"Biomass\",\"Coal\",\"Gas\",\"Hydro\",\"Nuclear\",\"Oil\",\"Solar\",\"Wind\"]\n",
    "y_axis_labels = [\"Biomass\",\"Coal\",\"Gas\",\"Hydro\",\"Nuclear\",\"Oil\",\"Solar\",\"Wind\"]\n",
    "\n",
    "f, ax = plt.subplots(figsize =(7,7))\n",
    "sns.heatmap(cm, annot = True, linewidths=0.2, linecolor=\"black\", fmt = \".0f\", ax=ax, cmap=\"Purples\", xticklabels=x_axis_labels, yticklabels=y_axis_labels)\n",
    "plt.xlabel(\"PREDICTED LABEL\")\n",
    "plt.ylabel(\"TRUE LABEL\")\n",
    "plt.title('Confusion Matrix for Random Forest Classifier')\n",
    "plt.show()"
   ]
  },
  {
   "cell_type": "markdown",
   "id": "2fc6a641",
   "metadata": {},
   "source": [
    "We can see the true values and predicted values in Random Forest Classifier model using confusion matrix."
   ]
  },
  {
   "cell_type": "markdown",
   "id": "3694d7f1",
   "metadata": {},
   "source": [
    "# iii) SupportVectorClassifier"
   ]
  },
  {
   "cell_type": "code",
   "execution_count": 106,
   "id": "d811e7a1",
   "metadata": {},
   "outputs": [
    {
     "name": "stdout",
     "output_type": "stream",
     "text": [
      "Accuracy Score: 0.7884615384615384\n",
      "Confusion Matrix: [[61  0  0  0  0  0  0 10]\n",
      " [10 31 10  1  9  1  0  3]\n",
      " [ 2  5 45  4  7 15  0  0]\n",
      " [ 0  9 11 40  7  0  0  6]\n",
      " [ 0  0  1  0 67  0  0  0]\n",
      " [ 0  0  0  0  0 67  0  9]\n",
      " [ 0  0  0  0  0  0 57  0]\n",
      " [ 0  0  1  0  0  0  0 83]]\n",
      "              precision    recall  f1-score   support\n",
      "\n",
      "           0       0.84      0.86      0.85        71\n",
      "           1       0.69      0.48      0.56        65\n",
      "           2       0.66      0.58      0.62        78\n",
      "           3       0.89      0.55      0.68        73\n",
      "           4       0.74      0.99      0.85        68\n",
      "           5       0.81      0.88      0.84        76\n",
      "           6       1.00      1.00      1.00        57\n",
      "           7       0.75      0.99      0.85        84\n",
      "\n",
      "    accuracy                           0.79       572\n",
      "   macro avg       0.80      0.79      0.78       572\n",
      "weighted avg       0.79      0.79      0.78       572\n",
      "\n"
     ]
    }
   ],
   "source": [
    "SV=SVC()\n",
    "SV.fit(x_train,y_train)\n",
    "predsv=SV.predict(x_test)\n",
    "print('Accuracy Score:',accuracy_score(y_test, predsv))\n",
    "print('Confusion Matrix:',confusion_matrix(y_test, predsv))\n",
    "print(classification_report(y_test,predsv))"
   ]
  },
  {
   "cell_type": "code",
   "execution_count": 107,
   "id": "65757d94",
   "metadata": {},
   "outputs": [
    {
     "data": {
      "image/png": "[encoded data removed]",
      "text/plain": [
       "<Figure size 504x504 with 2 Axes>"
      ]
     },
     "metadata": {
      "needs_background": "light"
     },
     "output_type": "display_data"
    }
   ],
   "source": [
    "cm = confusion_matrix(y_test, predsv)\n",
    "\n",
    "x_axis_labels = [\"Biomass\",\"Coal\",\"Gas\",\"Hydro\",\"Nuclear\",\"Oil\",\"Solar\",\"Wind\"]\n",
    "y_axis_labels = [\"Biomass\",\"Coal\",\"Gas\",\"Hydro\",\"Nuclear\",\"Oil\",\"Solar\",\"Wind\"]\n",
    "\n",
    "f, ax = plt.subplots(figsize =(7,7))\n",
    "sns.heatmap(cm, annot = True, linewidths=0.2, linecolor=\"black\", fmt = \".0f\", ax=ax, cmap=\"Purples\", xticklabels=x_axis_labels, yticklabels=y_axis_labels)\n",
    "plt.xlabel(\"PREDICTED LABEL\")\n",
    "plt.ylabel(\"TRUE LABEL\")\n",
    "plt.title('Confusion Matrix for Support Vector Classifier')\n",
    "plt.show()"
   ]
  },
  {
   "cell_type": "markdown",
   "id": "27595d6c",
   "metadata": {},
   "source": [
    "# iv) K-Neighbor Classifier"
   ]
  },
  {
   "cell_type": "code",
   "execution_count": 108,
   "id": "a269f4a0",
   "metadata": {},
   "outputs": [
    {
     "name": "stdout",
     "output_type": "stream",
     "text": [
      "Accuracy Score: 0.8653846153846154\n",
      "Confusion Matrix: [[70  0  0  0  0  0  0  1]\n",
      " [ 7 34 12  3  6  2  0  1]\n",
      " [ 2  2 63  1  1  9  0  0]\n",
      " [ 0  7 13 48  1  1  0  3]\n",
      " [ 0  1  1  0 66  0  0  0]\n",
      " [ 0  0  0  0  0 73  0  3]\n",
      " [ 0  0  0  0  0  0 57  0]\n",
      " [ 0  0  0  0  0  0  0 84]]\n",
      "              precision    recall  f1-score   support\n",
      "\n",
      "           0       0.89      0.99      0.93        71\n",
      "           1       0.77      0.52      0.62        65\n",
      "           2       0.71      0.81      0.75        78\n",
      "           3       0.92      0.66      0.77        73\n",
      "           4       0.89      0.97      0.93        68\n",
      "           5       0.86      0.96      0.91        76\n",
      "           6       1.00      1.00      1.00        57\n",
      "           7       0.91      1.00      0.95        84\n",
      "\n",
      "    accuracy                           0.87       572\n",
      "   macro avg       0.87      0.86      0.86       572\n",
      "weighted avg       0.87      0.87      0.86       572\n",
      "\n"
     ]
    }
   ],
   "source": [
    "knn=KNN()\n",
    "knn.fit(x_train,y_train)\n",
    "predkn=knn.predict(x_test)\n",
    "print('Accuracy Score:',accuracy_score(y_test, predkn))\n",
    "print('Confusion Matrix:',confusion_matrix(y_test, predkn))\n",
    "print(classification_report(y_test,predkn))"
   ]
  },
  {
   "cell_type": "code",
   "execution_count": 109,
   "id": "68574544",
   "metadata": {},
   "outputs": [
    {
     "data": {
      "image/png": "[encoded data removed]",
      "text/plain": [
       "<Figure size 504x504 with 2 Axes>"
      ]
     },
     "metadata": {
      "needs_background": "light"
     },
     "output_type": "display_data"
    }
   ],
   "source": [
    "cm = confusion_matrix(y_test, predkn)\n",
    "\n",
    "x_axis_labels = [\"Biomass\",\"Coal\",\"Gas\",\"Hydro\",\"Nuclear\",\"Oil\",\"Solar\",\"Wind\"]\n",
    "y_axis_labels = [\"Biomass\",\"Coal\",\"Gas\",\"Hydro\",\"Nuclear\",\"Oil\",\"Solar\",\"Wind\"]\n",
    "\n",
    "f, ax = plt.subplots(figsize =(7,7))\n",
    "sns.heatmap(cm, annot = True, linewidths=0.2, linecolor=\"black\", fmt = \".0f\", ax=ax, cmap=\"Purples\", xticklabels=x_axis_labels, yticklabels=y_axis_labels)\n",
    "plt.xlabel(\"PREDICTED LABEL\")\n",
    "plt.ylabel(\"TRUE LABEL\")\n",
    "plt.title('Confusion Matrix for K-Neighbor Classifier')\n",
    "plt.show()"
   ]
  },
  {
   "cell_type": "markdown",
   "id": "b26b4d39",
   "metadata": {},
   "source": [
    "# Cross Validation score"
   ]
  },
  {
   "cell_type": "code",
   "execution_count": 110,
   "id": "0915579e",
   "metadata": {},
   "outputs": [],
   "source": [
    "#Importing library\n",
    "from sklearn.model_selection import cross_val_score"
   ]
  },
  {
   "cell_type": "code",
   "execution_count": 111,
   "id": "ec1c14c7",
   "metadata": {},
   "outputs": [
    {
     "name": "stdout",
     "output_type": "stream",
     "text": [
      "0.8776184555877883\n"
     ]
    }
   ],
   "source": [
    "# cv score for Decision Tree Classifier\n",
    "print(cross_val_score(DTC,X_1,y_1,cv=5).mean())"
   ]
  },
  {
   "cell_type": "code",
   "execution_count": 112,
   "id": "2b57a075",
   "metadata": {},
   "outputs": [
    {
     "name": "stdout",
     "output_type": "stream",
     "text": [
      "0.9180674126260533\n"
     ]
    }
   ],
   "source": [
    "# cv score for Random Forest Classifier\n",
    "print(cross_val_score(RFC,X_1,y_1,cv=5).mean())"
   ]
  },
  {
   "cell_type": "code",
   "execution_count": 113,
   "id": "a82b907a",
   "metadata": {},
   "outputs": [
    {
     "name": "stdout",
     "output_type": "stream",
     "text": [
      "0.7962177096284018\n"
     ]
    }
   ],
   "source": [
    "# cv score for Support Vector  Classifier\n",
    "print(cross_val_score(SV,X_1,y_1,cv=5).mean())"
   ]
  },
  {
   "cell_type": "code",
   "execution_count": 114,
   "id": "c3aa6006",
   "metadata": {},
   "outputs": [
    {
     "name": "stdout",
     "output_type": "stream",
     "text": [
      "0.8587277248238706\n"
     ]
    }
   ],
   "source": [
    "# cv score for KNN Classifier\n",
    "print(cross_val_score(knn,X_1,y_1,cv=5).mean())"
   ]
  },
  {
   "cell_type": "markdown",
   "id": "0ade8dc6",
   "metadata": {},
   "source": [
    "Above are the cross validation scores of DTC,RFC,SVC,and KNN.\n",
    "\n",
    "The difference between Model accuracy and cross validation score is best found in KNN ."
   ]
  },
  {
   "cell_type": "markdown",
   "id": "bc0f0827",
   "metadata": {},
   "source": [
    "# Hyper Parameter tuning"
   ]
  },
  {
   "cell_type": "code",
   "execution_count": 116,
   "id": "0bad7227",
   "metadata": {},
   "outputs": [],
   "source": [
    "#importing necessary libraries\n",
    "from sklearn.model_selection import GridSearchCV"
   ]
  },
  {
   "cell_type": "code",
   "execution_count": 117,
   "id": "9495ec28",
   "metadata": {},
   "outputs": [],
   "source": [
    "parameter = {'n_neighbors':[1,2,3,4,5,6],     #parameters for KNN classifier\n",
    "             'weights':['uniform','distance'],\n",
    "             'leaf_size':[10,100,1000],\n",
    "             'algorithm':['auto','ball_tree','kd_tree','brute']}"
   ]
  },
  {
   "cell_type": "markdown",
   "id": "5ed5d97e",
   "metadata": {},
   "source": [
    "Giving parameters of KNN."
   ]
  },
  {
   "cell_type": "code",
   "execution_count": 118,
   "id": "fdd90850",
   "metadata": {},
   "outputs": [],
   "source": [
    "GCV=GridSearchCV(KNN(),parameter,cv=5)"
   ]
  },
  {
   "cell_type": "markdown",
   "id": "4cd9bce6",
   "metadata": {},
   "source": [
    "Running grid search CV for KNN"
   ]
  },
  {
   "cell_type": "code",
   "execution_count": 119,
   "id": "5e978732",
   "metadata": {},
   "outputs": [
    {
     "data": {
      "text/html": [
       "<style>#sk-container-id-2 {color: black;background-color: white;}#sk-container-id-2 pre{padding: 0;}#sk-container-id-2 div.sk-toggleable {background-color: white;}#sk-container-id-2 label.sk-toggleable__label {cursor: pointer;display: block;width: 100%;margin-bottom: 0;padding: 0.3em;box-sizing: border-box;text-align: center;}#sk-container-id-2 label.sk-toggleable__label-arrow:before {content: \"▸\";float: left;margin-right: 0.25em;color: #696969;}#sk-container-id-2 label.sk-toggleable__label-arrow:hover:before {color: black;}#sk-container-id-2 div.sk-estimator:hover label.sk-toggleable__label-arrow:before {color: black;}#sk-container-id-2 div.sk-toggleable__content {max-height: 0;max-width: 0;overflow: hidden;text-align: left;background-color: #f0f8ff;}#sk-container-id-2 div.sk-toggleable__content pre {margin: 0.2em;color: black;border-radius: 0.25em;background-color: #f0f8ff;}#sk-container-id-2 input.sk-toggleable__control:checked~div.sk-toggleable__content {max-height: 200px;max-width: 100%;overflow: auto;}#sk-container-id-2 input.sk-toggleable__control:checked~label.sk-toggleable__label-arrow:before {content: \"▾\";}#sk-container-id-2 div.sk-estimator input.sk-toggleable__control:checked~label.sk-toggleable__label {background-color: #d4ebff;}#sk-container-id-2 div.sk-label input.sk-toggleable__control:checked~label.sk-toggleable__label {background-color: #d4ebff;}#sk-container-id-2 input.sk-hidden--visually {border: 0;clip: rect(1px 1px 1px 1px);clip: rect(1px, 1px, 1px, 1px);height: 1px;margin: -1px;overflow: hidden;padding: 0;position: absolute;width: 1px;}#sk-container-id-2 div.sk-estimator {font-family: monospace;background-color: #f0f8ff;border: 1px dotted black;border-radius: 0.25em;box-sizing: border-box;margin-bottom: 0.5em;}#sk-container-id-2 div.sk-estimator:hover {background-color: #d4ebff;}#sk-container-id-2 div.sk-parallel-item::after {content: \"\";width: 100%;border-bottom: 1px solid gray;flex-grow: 1;}#sk-container-id-2 div.sk-label:hover label.sk-toggleable__label {background-color: #d4ebff;}#sk-container-id-2 div.sk-serial::before {content: \"\";position: absolute;border-left: 1px solid gray;box-sizing: border-box;top: 0;bottom: 0;left: 50%;z-index: 0;}#sk-container-id-2 div.sk-serial {display: flex;flex-direction: column;align-items: center;background-color: white;padding-right: 0.2em;padding-left: 0.2em;position: relative;}#sk-container-id-2 div.sk-item {position: relative;z-index: 1;}#sk-container-id-2 div.sk-parallel {display: flex;align-items: stretch;justify-content: center;background-color: white;position: relative;}#sk-container-id-2 div.sk-item::before, #sk-container-id-2 div.sk-parallel-item::before {content: \"\";position: absolute;border-left: 1px solid gray;box-sizing: border-box;top: 0;bottom: 0;left: 50%;z-index: -1;}#sk-container-id-2 div.sk-parallel-item {display: flex;flex-direction: column;z-index: 1;position: relative;background-color: white;}#sk-container-id-2 div.sk-parallel-item:first-child::after {align-self: flex-end;width: 50%;}#sk-container-id-2 div.sk-parallel-item:last-child::after {align-self: flex-start;width: 50%;}#sk-container-id-2 div.sk-parallel-item:only-child::after {width: 0;}#sk-container-id-2 div.sk-dashed-wrapped {border: 1px dashed gray;margin: 0 0.4em 0.5em 0.4em;box-sizing: border-box;padding-bottom: 0.4em;background-color: white;}#sk-container-id-2 div.sk-label label {font-family: monospace;font-weight: bold;display: inline-block;line-height: 1.2em;}#sk-container-id-2 div.sk-label-container {text-align: center;}#sk-container-id-2 div.sk-container {/* jupyter's `normalize.less` sets `[hidden] { display: none; }` but bootstrap.min.css set `[hidden] { display: none !important; }` so we also need the `!important` here to be able to override the default hidden behavior on the sphinx rendered scikit-learn.org. See: https://github.com/scikit-learn/scikit-learn/issues/21755 */display: inline-block !important;position: relative;}#sk-container-id-2 div.sk-text-repr-fallback {display: none;}</style><div id=\"sk-container-id-2\" class=\"sk-top-container\"><div class=\"sk-text-repr-fallback\"><pre>GridSearchCV(cv=5, estimator=KNeighborsClassifier(),\n",
       "             param_grid={&#x27;algorithm&#x27;: [&#x27;auto&#x27;, &#x27;ball_tree&#x27;, &#x27;kd_tree&#x27;, &#x27;brute&#x27;],\n",
       "                         &#x27;leaf_size&#x27;: [10, 100, 1000],\n",
       "                         &#x27;n_neighbors&#x27;: [1, 2, 3, 4, 5, 6],\n",
       "                         &#x27;weights&#x27;: [&#x27;uniform&#x27;, &#x27;distance&#x27;]})</pre><b>In a Jupyter environment, please rerun this cell to show the HTML representation or trust the notebook. <br />On GitHub, the HTML representation is unable to render, please try loading this page with nbviewer.org.</b></div><div class=\"sk-container\" hidden><div class=\"sk-item sk-dashed-wrapped\"><div class=\"sk-label-container\"><div class=\"sk-label sk-toggleable\"><input class=\"sk-toggleable__control sk-hidden--visually\" id=\"sk-estimator-id-4\" type=\"checkbox\" ><label for=\"sk-estimator-id-4\" class=\"sk-toggleable__label sk-toggleable__label-arrow\">GridSearchCV</label><div class=\"sk-toggleable__content\"><pre>GridSearchCV(cv=5, estimator=KNeighborsClassifier(),\n",
       "             param_grid={&#x27;algorithm&#x27;: [&#x27;auto&#x27;, &#x27;ball_tree&#x27;, &#x27;kd_tree&#x27;, &#x27;brute&#x27;],\n",
       "                         &#x27;leaf_size&#x27;: [10, 100, 1000],\n",
       "                         &#x27;n_neighbors&#x27;: [1, 2, 3, 4, 5, 6],\n",
       "                         &#x27;weights&#x27;: [&#x27;uniform&#x27;, &#x27;distance&#x27;]})</pre></div></div></div><div class=\"sk-parallel\"><div class=\"sk-parallel-item\"><div class=\"sk-item\"><div class=\"sk-label-container\"><div class=\"sk-label sk-toggleable\"><input class=\"sk-toggleable__control sk-hidden--visually\" id=\"sk-estimator-id-5\" type=\"checkbox\" ><label for=\"sk-estimator-id-5\" class=\"sk-toggleable__label sk-toggleable__label-arrow\">estimator: KNeighborsClassifier</label><div class=\"sk-toggleable__content\"><pre>KNeighborsClassifier()</pre></div></div></div><div class=\"sk-serial\"><div class=\"sk-item\"><div class=\"sk-estimator sk-toggleable\"><input class=\"sk-toggleable__control sk-hidden--visually\" id=\"sk-estimator-id-6\" type=\"checkbox\" ><label for=\"sk-estimator-id-6\" class=\"sk-toggleable__label sk-toggleable__label-arrow\">KNeighborsClassifier</label><div class=\"sk-toggleable__content\"><pre>KNeighborsClassifier()</pre></div></div></div></div></div></div></div></div></div></div>"
      ],
      "text/plain": [
       "GridSearchCV(cv=5, estimator=KNeighborsClassifier(),\n",
       "             param_grid={'algorithm': ['auto', 'ball_tree', 'kd_tree', 'brute'],\n",
       "                         'leaf_size': [10, 100, 1000],\n",
       "                         'n_neighbors': [1, 2, 3, 4, 5, 6],\n",
       "                         'weights': ['uniform', 'distance']})"
      ]
     },
     "execution_count": 119,
     "metadata": {},
     "output_type": "execute_result"
    }
   ],
   "source": [
    "GCV.fit(x_train,y_train)"
   ]
  },
  {
   "cell_type": "code",
   "execution_count": 120,
   "id": "4b67e634",
   "metadata": {},
   "outputs": [
    {
     "data": {
      "text/plain": [
       "{'algorithm': 'auto', 'leaf_size': 10, 'n_neighbors': 1, 'weights': 'uniform'}"
      ]
     },
     "execution_count": 120,
     "metadata": {},
     "output_type": "execute_result"
    }
   ],
   "source": [
    "GCV.best_params_"
   ]
  },
  {
   "cell_type": "code",
   "execution_count": 121,
   "id": "74274b78",
   "metadata": {},
   "outputs": [
    {
     "name": "stdout",
     "output_type": "stream",
     "text": [
      "88.98601398601399\n"
     ]
    }
   ],
   "source": [
    "Final1_mod=KNN(algorithm='auto',leaf_size=10, n_neighbors=1, weights='uniform')\n",
    "Final1_mod.fit(x_train,y_train)\n",
    "pred=Final1_mod.predict(x_test)\n",
    "acc=accuracy_score(y_test, pred)\n",
    "\n",
    "print(acc*100)"
   ]
  },
  {
   "cell_type": "markdown",
   "id": "58ae7ce0",
   "metadata": {},
   "source": [
    "# ROC AUC Curve"
   ]
  },
  {
   "cell_type": "code",
   "execution_count": 125,
   "id": "0e0251f5",
   "metadata": {},
   "outputs": [
    {
     "data": {
      "image/png": "[encoded data removed]",
      "text/plain": [
       "<Figure size 432x288 with 1 Axes>"
      ]
     },
     "metadata": {
      "needs_background": "light"
     },
     "output_type": "display_data"
    }
   ],
   "source": [
    "# Plotting ROC curve for all the models\n",
    "from sklearn.preprocessing import label_binarize\n",
    "from sklearn.multiclass import OneVsRestClassifier\n",
    "from sklearn.metrics import roc_curve, auc\n",
    "\n",
    "classifier = OneVsRestClassifier(Final1_mod)\n",
    "y_sco = classifier.fit(x_train, y_train).predict_proba(x_test)\n",
    "\n",
    "y_test_bin  = label_binarize(y_test, classes=[0,1,2,3,4,5,6,7])\n",
    "n_classes = 8\n",
    "\n",
    "false_pr = dict()\n",
    "true_pr = dict()\n",
    "roc_auc = dict()\n",
    "for i in range(n_classes):\n",
    "    false_pr[i], true_pr[i], _ = roc_curve(y_test_bin[:, i], y_sco[:, i])\n",
    "    roc_auc[i] = auc(false_pr[i], true_pr[i])\n",
    "   \n",
    "for i in range(n_classes):\n",
    "    plt.plot(false_pr[i], true_pr[i], lw=2,\n",
    "             label='ROC curve of class {0} (Area = {1:0.2f})'\n",
    "             ''.format(i, roc_auc[i]))\n",
    "\n",
    "plt.plot([0, 1], [0, 1], 'k--', lw=2)\n",
    "plt.xlim([-0.05, 1.0])\n",
    "plt.ylim([0.0, 1.05])\n",
    "plt.xlabel('False Positive Rate')\n",
    "plt.ylabel('True Positive Rate')\n",
    "plt.title('ROC for multi-classification data')\n",
    "plt.legend(loc=\"lower right\")\n",
    "plt.show()"
   ]
  },
  {
   "cell_type": "markdown",
   "id": "4fc2d215",
   "metadata": {},
   "source": [
    " Above is the roc curves of all models, best model is KNN."
   ]
  },
  {
   "cell_type": "markdown",
   "id": "7a16e736",
   "metadata": {},
   "source": [
    "# Saving the model"
   ]
  },
  {
   "cell_type": "code",
   "execution_count": 126,
   "id": "4f7d0717",
   "metadata": {},
   "outputs": [
    {
     "data": {
      "text/plain": [
       "['Fuel_type.pkl']"
      ]
     },
     "execution_count": 126,
     "metadata": {},
     "output_type": "execute_result"
    }
   ],
   "source": [
    "#Saving the model as .pkl file\n",
    "import joblib\n",
    "joblib.dump(Final1_mod,\"Fuel_type.pkl\")"
   ]
  },
  {
   "cell_type": "code",
   "execution_count": null,
   "id": "faf1c9fd",
   "metadata": {},
   "outputs": [],
   "source": []
  }
 ],
 "metadata": {
  "kernelspec": {
   "display_name": "Python 3 (ipykernel)",
   "language": "python",
   "name": "python3"
  },
  "language_info": {
   "codemirror_mode": {
    "name": "ipython",
    "version": 3
   },
   "file_extension": ".py",
   "mimetype": "text/x-python",
   "name": "python",
   "nbconvert_exporter": "python",
   "pygments_lexer": "ipython3",
   "version": "3.9.7"
  }
 },
 "nbformat": 4,
 "nbformat_minor": 5
}
